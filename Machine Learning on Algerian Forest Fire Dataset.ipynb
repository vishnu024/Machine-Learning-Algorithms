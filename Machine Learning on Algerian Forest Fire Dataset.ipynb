{
 "cells": [
  {
   "cell_type": "code",
   "execution_count": 1,
   "id": "9333f0de",
   "metadata": {},
   "outputs": [],
   "source": [
    "#Importing Libraries\n",
    "import pandas as pd\n",
    "import numpy as np\n",
    "import matplotlib.pyplot as plt\n",
    "import seaborn as sns\n",
    "from sklearn.linear_model import LinearRegression\n",
    "\n",
    "\n",
    "%matplotlib inline"
   ]
  },
  {
   "cell_type": "code",
   "execution_count": 2,
   "id": "2d2a4343",
   "metadata": {},
   "outputs": [],
   "source": [
    "# Reading the data into Data Frame\n",
    "df = pd.read_csv(r'C:\\Users\\w10\\Downloads\\Algerian_forest_fires_dataset_UPDATE.csv', header=1)"
   ]
  },
  {
   "cell_type": "code",
   "execution_count": 3,
   "id": "c0dd9b10",
   "metadata": {},
   "outputs": [
    {
     "data": {
      "text/plain": [
       "Index(['day', 'month', 'year', 'Temperature', ' RH', ' Ws', 'Rain ', 'FFMC',\n",
       "       'DMC', 'DC', 'ISI', 'BUI', 'FWI', 'Classes  '],\n",
       "      dtype='object')"
      ]
     },
     "execution_count": 3,
     "metadata": {},
     "output_type": "execute_result"
    }
   ],
   "source": [
    "df.columns"
   ]
  },
  {
   "cell_type": "code",
   "execution_count": 4,
   "id": "f6087396",
   "metadata": {},
   "outputs": [],
   "source": [
    "# Removing unwanted spaces from the column names\n",
    "df.columns = df.columns.str.replace(' ', '')"
   ]
  },
  {
   "cell_type": "code",
   "execution_count": 5,
   "id": "dfcb06a9",
   "metadata": {},
   "outputs": [
    {
     "data": {
      "text/plain": [
       "Index(['day', 'month', 'year', 'Temperature', 'RH', 'Ws', 'Rain', 'FFMC',\n",
       "       'DMC', 'DC', 'ISI', 'BUI', 'FWI', 'Classes'],\n",
       "      dtype='object')"
      ]
     },
     "execution_count": 5,
     "metadata": {},
     "output_type": "execute_result"
    }
   ],
   "source": [
    "df.columns"
   ]
  },
  {
   "cell_type": "code",
   "execution_count": 6,
   "id": "098b487e",
   "metadata": {},
   "outputs": [
    {
     "data": {
      "text/html": [
       "<div>\n",
       "<style scoped>\n",
       "    .dataframe tbody tr th:only-of-type {\n",
       "        vertical-align: middle;\n",
       "    }\n",
       "\n",
       "    .dataframe tbody tr th {\n",
       "        vertical-align: top;\n",
       "    }\n",
       "\n",
       "    .dataframe thead th {\n",
       "        text-align: right;\n",
       "    }\n",
       "</style>\n",
       "<table border=\"1\" class=\"dataframe\">\n",
       "  <thead>\n",
       "    <tr style=\"text-align: right;\">\n",
       "      <th></th>\n",
       "      <th>day</th>\n",
       "      <th>month</th>\n",
       "      <th>year</th>\n",
       "      <th>Temperature</th>\n",
       "      <th>RH</th>\n",
       "      <th>Ws</th>\n",
       "      <th>Rain</th>\n",
       "      <th>FFMC</th>\n",
       "      <th>DMC</th>\n",
       "      <th>DC</th>\n",
       "      <th>ISI</th>\n",
       "      <th>BUI</th>\n",
       "      <th>FWI</th>\n",
       "      <th>Classes</th>\n",
       "    </tr>\n",
       "  </thead>\n",
       "  <tbody>\n",
       "    <tr>\n",
       "      <th>120</th>\n",
       "      <td>29</td>\n",
       "      <td>9</td>\n",
       "      <td>2012</td>\n",
       "      <td>26</td>\n",
       "      <td>80</td>\n",
       "      <td>16</td>\n",
       "      <td>1.8</td>\n",
       "      <td>47.4</td>\n",
       "      <td>2.9</td>\n",
       "      <td>7.7</td>\n",
       "      <td>0.3</td>\n",
       "      <td>3</td>\n",
       "      <td>0.1</td>\n",
       "      <td>not fire</td>\n",
       "    </tr>\n",
       "    <tr>\n",
       "      <th>121</th>\n",
       "      <td>30</td>\n",
       "      <td>9</td>\n",
       "      <td>2012</td>\n",
       "      <td>25</td>\n",
       "      <td>78</td>\n",
       "      <td>14</td>\n",
       "      <td>1.4</td>\n",
       "      <td>45</td>\n",
       "      <td>1.9</td>\n",
       "      <td>7.5</td>\n",
       "      <td>0.2</td>\n",
       "      <td>2.4</td>\n",
       "      <td>0.1</td>\n",
       "      <td>not fire</td>\n",
       "    </tr>\n",
       "    <tr>\n",
       "      <th>122</th>\n",
       "      <td>NaN</td>\n",
       "      <td>NaN</td>\n",
       "      <td>NaN</td>\n",
       "      <td>NaN</td>\n",
       "      <td>NaN</td>\n",
       "      <td>NaN</td>\n",
       "      <td>NaN</td>\n",
       "      <td>NaN</td>\n",
       "      <td>NaN</td>\n",
       "      <td>NaN</td>\n",
       "      <td>NaN</td>\n",
       "      <td>NaN</td>\n",
       "      <td>NaN</td>\n",
       "      <td>NaN</td>\n",
       "    </tr>\n",
       "    <tr>\n",
       "      <th>123</th>\n",
       "      <td>Sidi-Bel Abbes Region Dataset</td>\n",
       "      <td>NaN</td>\n",
       "      <td>NaN</td>\n",
       "      <td>NaN</td>\n",
       "      <td>NaN</td>\n",
       "      <td>NaN</td>\n",
       "      <td>NaN</td>\n",
       "      <td>NaN</td>\n",
       "      <td>NaN</td>\n",
       "      <td>NaN</td>\n",
       "      <td>NaN</td>\n",
       "      <td>NaN</td>\n",
       "      <td>NaN</td>\n",
       "      <td>NaN</td>\n",
       "    </tr>\n",
       "    <tr>\n",
       "      <th>124</th>\n",
       "      <td>day</td>\n",
       "      <td>month</td>\n",
       "      <td>year</td>\n",
       "      <td>Temperature</td>\n",
       "      <td>RH</td>\n",
       "      <td>Ws</td>\n",
       "      <td>Rain</td>\n",
       "      <td>FFMC</td>\n",
       "      <td>DMC</td>\n",
       "      <td>DC</td>\n",
       "      <td>ISI</td>\n",
       "      <td>BUI</td>\n",
       "      <td>FWI</td>\n",
       "      <td>Classes</td>\n",
       "    </tr>\n",
       "  </tbody>\n",
       "</table>\n",
       "</div>"
      ],
      "text/plain": [
       "                               day  month  year  Temperature   RH   Ws   Rain  \\\n",
       "120                             29      9  2012           26   80   16    1.8   \n",
       "121                             30      9  2012           25   78   14    1.4   \n",
       "122                            NaN    NaN   NaN          NaN  NaN  NaN    NaN   \n",
       "123  Sidi-Bel Abbes Region Dataset    NaN   NaN          NaN  NaN  NaN    NaN   \n",
       "124                            day  month  year  Temperature   RH   Ws  Rain    \n",
       "\n",
       "     FFMC  DMC   DC  ISI  BUI  FWI      Classes  \n",
       "120  47.4  2.9  7.7  0.3    3  0.1  not fire     \n",
       "121    45  1.9  7.5  0.2  2.4  0.1  not fire     \n",
       "122   NaN  NaN  NaN  NaN  NaN  NaN          NaN  \n",
       "123   NaN  NaN  NaN  NaN  NaN  NaN          NaN  \n",
       "124  FFMC  DMC   DC  ISI  BUI  FWI    Classes    "
      ]
     },
     "execution_count": 6,
     "metadata": {},
     "output_type": "execute_result"
    }
   ],
   "source": [
    "df[120:125]"
   ]
  },
  {
   "cell_type": "code",
   "execution_count": 7,
   "id": "98d7562d",
   "metadata": {},
   "outputs": [],
   "source": [
    "# Dropping unwanted Rows by index\n",
    "df.drop(df.index[122:125], inplace = True)"
   ]
  },
  {
   "cell_type": "code",
   "execution_count": 8,
   "id": "4c978d78",
   "metadata": {},
   "outputs": [
    {
     "data": {
      "text/html": [
       "<div>\n",
       "<style scoped>\n",
       "    .dataframe tbody tr th:only-of-type {\n",
       "        vertical-align: middle;\n",
       "    }\n",
       "\n",
       "    .dataframe tbody tr th {\n",
       "        vertical-align: top;\n",
       "    }\n",
       "\n",
       "    .dataframe thead th {\n",
       "        text-align: right;\n",
       "    }\n",
       "</style>\n",
       "<table border=\"1\" class=\"dataframe\">\n",
       "  <thead>\n",
       "    <tr style=\"text-align: right;\">\n",
       "      <th></th>\n",
       "      <th>day</th>\n",
       "      <th>month</th>\n",
       "      <th>year</th>\n",
       "      <th>Temperature</th>\n",
       "      <th>RH</th>\n",
       "      <th>Ws</th>\n",
       "      <th>Rain</th>\n",
       "      <th>FFMC</th>\n",
       "      <th>DMC</th>\n",
       "      <th>DC</th>\n",
       "      <th>ISI</th>\n",
       "      <th>BUI</th>\n",
       "      <th>FWI</th>\n",
       "      <th>Classes</th>\n",
       "    </tr>\n",
       "  </thead>\n",
       "  <tbody>\n",
       "    <tr>\n",
       "      <th>125</th>\n",
       "      <td>1</td>\n",
       "      <td>6</td>\n",
       "      <td>2012</td>\n",
       "      <td>32</td>\n",
       "      <td>71</td>\n",
       "      <td>12</td>\n",
       "      <td>0.7</td>\n",
       "      <td>57.1</td>\n",
       "      <td>2.5</td>\n",
       "      <td>8.2</td>\n",
       "      <td>0.6</td>\n",
       "      <td>2.8</td>\n",
       "      <td>0.2</td>\n",
       "      <td>not fire</td>\n",
       "    </tr>\n",
       "    <tr>\n",
       "      <th>126</th>\n",
       "      <td>2</td>\n",
       "      <td>6</td>\n",
       "      <td>2012</td>\n",
       "      <td>30</td>\n",
       "      <td>73</td>\n",
       "      <td>13</td>\n",
       "      <td>4</td>\n",
       "      <td>55.7</td>\n",
       "      <td>2.7</td>\n",
       "      <td>7.8</td>\n",
       "      <td>0.6</td>\n",
       "      <td>2.9</td>\n",
       "      <td>0.2</td>\n",
       "      <td>not fire</td>\n",
       "    </tr>\n",
       "  </tbody>\n",
       "</table>\n",
       "</div>"
      ],
      "text/plain": [
       "    day month  year Temperature  RH  Ws Rain  FFMC  DMC   DC  ISI  BUI  FWI  \\\n",
       "125   1     6  2012          32  71  12  0.7  57.1  2.5  8.2  0.6  2.8  0.2   \n",
       "126   2     6  2012          30  73  13    4  55.7  2.7  7.8  0.6  2.9  0.2   \n",
       "\n",
       "         Classes  \n",
       "125  not fire     \n",
       "126  not fire     "
      ]
     },
     "execution_count": 8,
     "metadata": {},
     "output_type": "execute_result"
    }
   ],
   "source": [
    "df[122:124]"
   ]
  },
  {
   "cell_type": "code",
   "execution_count": 9,
   "id": "e14c4622",
   "metadata": {},
   "outputs": [],
   "source": [
    "#\"\"\"Dropping the specific rows as we have two diffrent regions in the data an hence created a new column region which represents\n",
    "#\"Bejaia Region Dataset as 0 and Sidi-Bel Abbes Region Dataset as 1\"\"\"\"\n",
    "df.loc[df.index[:122], 'Region'] = \"0\"\n",
    "df.loc[df.index[122:], 'Region'] = \"1\""
   ]
  },
  {
   "cell_type": "code",
   "execution_count": 10,
   "id": "be0d0aee",
   "metadata": {},
   "outputs": [
    {
     "data": {
      "text/html": [
       "<div>\n",
       "<style scoped>\n",
       "    .dataframe tbody tr th:only-of-type {\n",
       "        vertical-align: middle;\n",
       "    }\n",
       "\n",
       "    .dataframe tbody tr th {\n",
       "        vertical-align: top;\n",
       "    }\n",
       "\n",
       "    .dataframe thead th {\n",
       "        text-align: right;\n",
       "    }\n",
       "</style>\n",
       "<table border=\"1\" class=\"dataframe\">\n",
       "  <thead>\n",
       "    <tr style=\"text-align: right;\">\n",
       "      <th></th>\n",
       "      <th>day</th>\n",
       "      <th>month</th>\n",
       "      <th>year</th>\n",
       "      <th>Temperature</th>\n",
       "      <th>RH</th>\n",
       "      <th>Ws</th>\n",
       "      <th>Rain</th>\n",
       "      <th>FFMC</th>\n",
       "      <th>DMC</th>\n",
       "      <th>DC</th>\n",
       "      <th>ISI</th>\n",
       "      <th>BUI</th>\n",
       "      <th>FWI</th>\n",
       "      <th>Classes</th>\n",
       "      <th>Region</th>\n",
       "    </tr>\n",
       "  </thead>\n",
       "  <tbody>\n",
       "    <tr>\n",
       "      <th>0</th>\n",
       "      <td>1</td>\n",
       "      <td>6</td>\n",
       "      <td>2012</td>\n",
       "      <td>29</td>\n",
       "      <td>57</td>\n",
       "      <td>18</td>\n",
       "      <td>0</td>\n",
       "      <td>65.7</td>\n",
       "      <td>3.4</td>\n",
       "      <td>7.6</td>\n",
       "      <td>1.3</td>\n",
       "      <td>3.4</td>\n",
       "      <td>0.5</td>\n",
       "      <td>not fire</td>\n",
       "      <td>0</td>\n",
       "    </tr>\n",
       "    <tr>\n",
       "      <th>1</th>\n",
       "      <td>2</td>\n",
       "      <td>6</td>\n",
       "      <td>2012</td>\n",
       "      <td>29</td>\n",
       "      <td>61</td>\n",
       "      <td>13</td>\n",
       "      <td>1.3</td>\n",
       "      <td>64.4</td>\n",
       "      <td>4.1</td>\n",
       "      <td>7.6</td>\n",
       "      <td>1</td>\n",
       "      <td>3.9</td>\n",
       "      <td>0.4</td>\n",
       "      <td>not fire</td>\n",
       "      <td>0</td>\n",
       "    </tr>\n",
       "    <tr>\n",
       "      <th>2</th>\n",
       "      <td>3</td>\n",
       "      <td>6</td>\n",
       "      <td>2012</td>\n",
       "      <td>26</td>\n",
       "      <td>82</td>\n",
       "      <td>22</td>\n",
       "      <td>13.1</td>\n",
       "      <td>47.1</td>\n",
       "      <td>2.5</td>\n",
       "      <td>7.1</td>\n",
       "      <td>0.3</td>\n",
       "      <td>2.7</td>\n",
       "      <td>0.1</td>\n",
       "      <td>not fire</td>\n",
       "      <td>0</td>\n",
       "    </tr>\n",
       "    <tr>\n",
       "      <th>3</th>\n",
       "      <td>4</td>\n",
       "      <td>6</td>\n",
       "      <td>2012</td>\n",
       "      <td>25</td>\n",
       "      <td>89</td>\n",
       "      <td>13</td>\n",
       "      <td>2.5</td>\n",
       "      <td>28.6</td>\n",
       "      <td>1.3</td>\n",
       "      <td>6.9</td>\n",
       "      <td>0</td>\n",
       "      <td>1.7</td>\n",
       "      <td>0</td>\n",
       "      <td>not fire</td>\n",
       "      <td>0</td>\n",
       "    </tr>\n",
       "    <tr>\n",
       "      <th>4</th>\n",
       "      <td>5</td>\n",
       "      <td>6</td>\n",
       "      <td>2012</td>\n",
       "      <td>27</td>\n",
       "      <td>77</td>\n",
       "      <td>16</td>\n",
       "      <td>0</td>\n",
       "      <td>64.8</td>\n",
       "      <td>3</td>\n",
       "      <td>14.2</td>\n",
       "      <td>1.2</td>\n",
       "      <td>3.9</td>\n",
       "      <td>0.5</td>\n",
       "      <td>not fire</td>\n",
       "      <td>0</td>\n",
       "    </tr>\n",
       "  </tbody>\n",
       "</table>\n",
       "</div>"
      ],
      "text/plain": [
       "  day month  year Temperature  RH  Ws  Rain  FFMC  DMC    DC  ISI  BUI  FWI  \\\n",
       "0   1     6  2012          29  57  18     0  65.7  3.4   7.6  1.3  3.4  0.5   \n",
       "1   2     6  2012          29  61  13   1.3  64.4  4.1   7.6    1  3.9  0.4   \n",
       "2   3     6  2012          26  82  22  13.1  47.1  2.5   7.1  0.3  2.7  0.1   \n",
       "3   4     6  2012          25  89  13   2.5  28.6  1.3   6.9    0  1.7    0   \n",
       "4   5     6  2012          27  77  16     0  64.8    3  14.2  1.2  3.9  0.5   \n",
       "\n",
       "       Classes Region  \n",
       "0  not fire         0  \n",
       "1  not fire         0  \n",
       "2  not fire         0  \n",
       "3  not fire         0  \n",
       "4  not fire         0  "
      ]
     },
     "execution_count": 10,
     "metadata": {},
     "output_type": "execute_result"
    }
   ],
   "source": [
    "#Showing top 5 rows\n",
    "df.head()"
   ]
  },
  {
   "cell_type": "code",
   "execution_count": 11,
   "id": "2d0a4675",
   "metadata": {},
   "outputs": [
    {
     "data": {
      "text/html": [
       "<div>\n",
       "<style scoped>\n",
       "    .dataframe tbody tr th:only-of-type {\n",
       "        vertical-align: middle;\n",
       "    }\n",
       "\n",
       "    .dataframe tbody tr th {\n",
       "        vertical-align: top;\n",
       "    }\n",
       "\n",
       "    .dataframe thead th {\n",
       "        text-align: right;\n",
       "    }\n",
       "</style>\n",
       "<table border=\"1\" class=\"dataframe\">\n",
       "  <thead>\n",
       "    <tr style=\"text-align: right;\">\n",
       "      <th></th>\n",
       "      <th>day</th>\n",
       "      <th>month</th>\n",
       "      <th>year</th>\n",
       "      <th>Temperature</th>\n",
       "      <th>RH</th>\n",
       "      <th>Ws</th>\n",
       "      <th>Rain</th>\n",
       "      <th>FFMC</th>\n",
       "      <th>DMC</th>\n",
       "      <th>DC</th>\n",
       "      <th>ISI</th>\n",
       "      <th>BUI</th>\n",
       "      <th>FWI</th>\n",
       "      <th>Classes</th>\n",
       "      <th>Region</th>\n",
       "    </tr>\n",
       "  </thead>\n",
       "  <tbody>\n",
       "    <tr>\n",
       "      <th>125</th>\n",
       "      <td>1</td>\n",
       "      <td>6</td>\n",
       "      <td>2012</td>\n",
       "      <td>32</td>\n",
       "      <td>71</td>\n",
       "      <td>12</td>\n",
       "      <td>0.7</td>\n",
       "      <td>57.1</td>\n",
       "      <td>2.5</td>\n",
       "      <td>8.2</td>\n",
       "      <td>0.6</td>\n",
       "      <td>2.8</td>\n",
       "      <td>0.2</td>\n",
       "      <td>not fire</td>\n",
       "      <td>1</td>\n",
       "    </tr>\n",
       "    <tr>\n",
       "      <th>126</th>\n",
       "      <td>2</td>\n",
       "      <td>6</td>\n",
       "      <td>2012</td>\n",
       "      <td>30</td>\n",
       "      <td>73</td>\n",
       "      <td>13</td>\n",
       "      <td>4</td>\n",
       "      <td>55.7</td>\n",
       "      <td>2.7</td>\n",
       "      <td>7.8</td>\n",
       "      <td>0.6</td>\n",
       "      <td>2.9</td>\n",
       "      <td>0.2</td>\n",
       "      <td>not fire</td>\n",
       "      <td>1</td>\n",
       "    </tr>\n",
       "  </tbody>\n",
       "</table>\n",
       "</div>"
      ],
      "text/plain": [
       "    day month  year Temperature  RH  Ws Rain  FFMC  DMC   DC  ISI  BUI  FWI  \\\n",
       "125   1     6  2012          32  71  12  0.7  57.1  2.5  8.2  0.6  2.8  0.2   \n",
       "126   2     6  2012          30  73  13    4  55.7  2.7  7.8  0.6  2.9  0.2   \n",
       "\n",
       "         Classes Region  \n",
       "125  not fire         1  \n",
       "126  not fire         1  "
      ]
     },
     "execution_count": 11,
     "metadata": {},
     "output_type": "execute_result"
    }
   ],
   "source": [
    "df[122:124]"
   ]
  },
  {
   "cell_type": "code",
   "execution_count": 12,
   "id": "b6ca7bc1",
   "metadata": {},
   "outputs": [
    {
     "name": "stdout",
     "output_type": "stream",
     "text": [
      "<class 'pandas.core.frame.DataFrame'>\n",
      "Int64Index: 244 entries, 0 to 246\n",
      "Data columns (total 15 columns):\n",
      " #   Column       Non-Null Count  Dtype \n",
      "---  ------       --------------  ----- \n",
      " 0   day          244 non-null    object\n",
      " 1   month        244 non-null    object\n",
      " 2   year         244 non-null    object\n",
      " 3   Temperature  244 non-null    object\n",
      " 4   RH           244 non-null    object\n",
      " 5   Ws           244 non-null    object\n",
      " 6   Rain         244 non-null    object\n",
      " 7   FFMC         244 non-null    object\n",
      " 8   DMC          244 non-null    object\n",
      " 9   DC           244 non-null    object\n",
      " 10  ISI          244 non-null    object\n",
      " 11  BUI          244 non-null    object\n",
      " 12  FWI          244 non-null    object\n",
      " 13  Classes      243 non-null    object\n",
      " 14  Region       244 non-null    object\n",
      "dtypes: object(15)\n",
      "memory usage: 38.6+ KB\n"
     ]
    }
   ],
   "source": [
    "df.info()"
   ]
  },
  {
   "cell_type": "code",
   "execution_count": 13,
   "id": "49865e72",
   "metadata": {},
   "outputs": [],
   "source": [
    "#As per the data set all the features except the \"Classes\" all are numerical features, hence converting them to the numerical features..\n",
    "df['day'] = df['day'].astype(int)\n",
    "df['month'] = df['month'].astype(int)\n",
    "df['year'] = df['year'].astype(int)\n",
    "df['Temperature'] = df['Temperature'].astype(int)\n",
    "df['RH'] = df['RH'].astype(int)\n",
    "df['Ws'] = df['Ws'].astype(int)\n",
    "df['Rain'] = df['Rain'].astype(float)\n",
    "df['FFMC'] = df['FFMC'].astype(float)\n",
    "df['DMC'] = df['DMC'].astype(float)\n",
    "df['DC'] = df['DC'].astype(float)\n",
    "df['ISI'] = df['ISI'].astype(float)\n",
    "df['BUI'] = df['BUI'].astype(float)\n",
    "df['FWI'] = df['FWI'].astype(float)\n"
   ]
  },
  {
   "cell_type": "code",
   "execution_count": 14,
   "id": "a80c3ead",
   "metadata": {},
   "outputs": [
    {
     "data": {
      "text/html": [
       "<div>\n",
       "<style scoped>\n",
       "    .dataframe tbody tr th:only-of-type {\n",
       "        vertical-align: middle;\n",
       "    }\n",
       "\n",
       "    .dataframe tbody tr th {\n",
       "        vertical-align: top;\n",
       "    }\n",
       "\n",
       "    .dataframe thead th {\n",
       "        text-align: right;\n",
       "    }\n",
       "</style>\n",
       "<table border=\"1\" class=\"dataframe\">\n",
       "  <thead>\n",
       "    <tr style=\"text-align: right;\">\n",
       "      <th></th>\n",
       "      <th>day</th>\n",
       "      <th>month</th>\n",
       "      <th>year</th>\n",
       "      <th>Temperature</th>\n",
       "      <th>RH</th>\n",
       "      <th>Ws</th>\n",
       "      <th>Rain</th>\n",
       "      <th>FFMC</th>\n",
       "      <th>DMC</th>\n",
       "      <th>DC</th>\n",
       "      <th>ISI</th>\n",
       "      <th>BUI</th>\n",
       "      <th>FWI</th>\n",
       "    </tr>\n",
       "  </thead>\n",
       "  <tbody>\n",
       "    <tr>\n",
       "      <th>count</th>\n",
       "      <td>244.000000</td>\n",
       "      <td>244.000000</td>\n",
       "      <td>244.0</td>\n",
       "      <td>244.000000</td>\n",
       "      <td>244.000000</td>\n",
       "      <td>244.000000</td>\n",
       "      <td>244.000000</td>\n",
       "      <td>244.000000</td>\n",
       "      <td>244.000000</td>\n",
       "      <td>244.000000</td>\n",
       "      <td>244.000000</td>\n",
       "      <td>244.000000</td>\n",
       "      <td>244.000000</td>\n",
       "    </tr>\n",
       "    <tr>\n",
       "      <th>mean</th>\n",
       "      <td>15.754098</td>\n",
       "      <td>7.500000</td>\n",
       "      <td>2012.0</td>\n",
       "      <td>32.172131</td>\n",
       "      <td>61.938525</td>\n",
       "      <td>15.504098</td>\n",
       "      <td>0.760656</td>\n",
       "      <td>77.887705</td>\n",
       "      <td>14.673361</td>\n",
       "      <td>49.288115</td>\n",
       "      <td>4.774180</td>\n",
       "      <td>16.664754</td>\n",
       "      <td>7.027049</td>\n",
       "    </tr>\n",
       "    <tr>\n",
       "      <th>std</th>\n",
       "      <td>8.825059</td>\n",
       "      <td>1.112961</td>\n",
       "      <td>0.0</td>\n",
       "      <td>3.633843</td>\n",
       "      <td>14.884200</td>\n",
       "      <td>2.810178</td>\n",
       "      <td>1.999406</td>\n",
       "      <td>14.337571</td>\n",
       "      <td>12.368039</td>\n",
       "      <td>47.619662</td>\n",
       "      <td>4.175318</td>\n",
       "      <td>14.204824</td>\n",
       "      <td>7.426385</td>\n",
       "    </tr>\n",
       "    <tr>\n",
       "      <th>min</th>\n",
       "      <td>1.000000</td>\n",
       "      <td>6.000000</td>\n",
       "      <td>2012.0</td>\n",
       "      <td>22.000000</td>\n",
       "      <td>21.000000</td>\n",
       "      <td>6.000000</td>\n",
       "      <td>0.000000</td>\n",
       "      <td>28.600000</td>\n",
       "      <td>0.700000</td>\n",
       "      <td>6.900000</td>\n",
       "      <td>0.000000</td>\n",
       "      <td>1.100000</td>\n",
       "      <td>0.000000</td>\n",
       "    </tr>\n",
       "    <tr>\n",
       "      <th>25%</th>\n",
       "      <td>8.000000</td>\n",
       "      <td>7.000000</td>\n",
       "      <td>2012.0</td>\n",
       "      <td>30.000000</td>\n",
       "      <td>52.000000</td>\n",
       "      <td>14.000000</td>\n",
       "      <td>0.000000</td>\n",
       "      <td>72.075000</td>\n",
       "      <td>5.800000</td>\n",
       "      <td>13.275000</td>\n",
       "      <td>1.400000</td>\n",
       "      <td>6.000000</td>\n",
       "      <td>0.700000</td>\n",
       "    </tr>\n",
       "    <tr>\n",
       "      <th>50%</th>\n",
       "      <td>16.000000</td>\n",
       "      <td>7.500000</td>\n",
       "      <td>2012.0</td>\n",
       "      <td>32.000000</td>\n",
       "      <td>63.000000</td>\n",
       "      <td>15.000000</td>\n",
       "      <td>0.000000</td>\n",
       "      <td>83.500000</td>\n",
       "      <td>11.300000</td>\n",
       "      <td>33.100000</td>\n",
       "      <td>3.500000</td>\n",
       "      <td>12.250000</td>\n",
       "      <td>4.450000</td>\n",
       "    </tr>\n",
       "    <tr>\n",
       "      <th>75%</th>\n",
       "      <td>23.000000</td>\n",
       "      <td>8.000000</td>\n",
       "      <td>2012.0</td>\n",
       "      <td>35.000000</td>\n",
       "      <td>73.250000</td>\n",
       "      <td>17.000000</td>\n",
       "      <td>0.500000</td>\n",
       "      <td>88.300000</td>\n",
       "      <td>20.750000</td>\n",
       "      <td>68.150000</td>\n",
       "      <td>7.300000</td>\n",
       "      <td>22.525000</td>\n",
       "      <td>11.375000</td>\n",
       "    </tr>\n",
       "    <tr>\n",
       "      <th>max</th>\n",
       "      <td>31.000000</td>\n",
       "      <td>9.000000</td>\n",
       "      <td>2012.0</td>\n",
       "      <td>42.000000</td>\n",
       "      <td>90.000000</td>\n",
       "      <td>29.000000</td>\n",
       "      <td>16.800000</td>\n",
       "      <td>96.000000</td>\n",
       "      <td>65.900000</td>\n",
       "      <td>220.400000</td>\n",
       "      <td>19.000000</td>\n",
       "      <td>68.000000</td>\n",
       "      <td>31.100000</td>\n",
       "    </tr>\n",
       "  </tbody>\n",
       "</table>\n",
       "</div>"
      ],
      "text/plain": [
       "              day       month    year  Temperature          RH          Ws  \\\n",
       "count  244.000000  244.000000   244.0   244.000000  244.000000  244.000000   \n",
       "mean    15.754098    7.500000  2012.0    32.172131   61.938525   15.504098   \n",
       "std      8.825059    1.112961     0.0     3.633843   14.884200    2.810178   \n",
       "min      1.000000    6.000000  2012.0    22.000000   21.000000    6.000000   \n",
       "25%      8.000000    7.000000  2012.0    30.000000   52.000000   14.000000   \n",
       "50%     16.000000    7.500000  2012.0    32.000000   63.000000   15.000000   \n",
       "75%     23.000000    8.000000  2012.0    35.000000   73.250000   17.000000   \n",
       "max     31.000000    9.000000  2012.0    42.000000   90.000000   29.000000   \n",
       "\n",
       "             Rain        FFMC         DMC          DC         ISI         BUI  \\\n",
       "count  244.000000  244.000000  244.000000  244.000000  244.000000  244.000000   \n",
       "mean     0.760656   77.887705   14.673361   49.288115    4.774180   16.664754   \n",
       "std      1.999406   14.337571   12.368039   47.619662    4.175318   14.204824   \n",
       "min      0.000000   28.600000    0.700000    6.900000    0.000000    1.100000   \n",
       "25%      0.000000   72.075000    5.800000   13.275000    1.400000    6.000000   \n",
       "50%      0.000000   83.500000   11.300000   33.100000    3.500000   12.250000   \n",
       "75%      0.500000   88.300000   20.750000   68.150000    7.300000   22.525000   \n",
       "max     16.800000   96.000000   65.900000  220.400000   19.000000   68.000000   \n",
       "\n",
       "              FWI  \n",
       "count  244.000000  \n",
       "mean     7.027049  \n",
       "std      7.426385  \n",
       "min      0.000000  \n",
       "25%      0.700000  \n",
       "50%      4.450000  \n",
       "75%     11.375000  \n",
       "max     31.100000  "
      ]
     },
     "execution_count": 14,
     "metadata": {},
     "output_type": "execute_result"
    }
   ],
   "source": [
    "#Summary of Data Set\n",
    "df.describe()"
   ]
  },
  {
   "cell_type": "code",
   "execution_count": 15,
   "id": "3b9efe82",
   "metadata": {},
   "outputs": [
    {
     "data": {
      "text/plain": [
       "day            0\n",
       "month          0\n",
       "year           0\n",
       "Temperature    0\n",
       "RH             0\n",
       "Ws             0\n",
       "Rain           0\n",
       "FFMC           0\n",
       "DMC            0\n",
       "DC             0\n",
       "ISI            0\n",
       "BUI            0\n",
       "FWI            0\n",
       "Classes        1\n",
       "Region         0\n",
       "dtype: int64"
      ]
     },
     "execution_count": 15,
     "metadata": {},
     "output_type": "execute_result"
    }
   ],
   "source": [
    "#Checking the Null values in data set\n",
    "df.isnull().sum()"
   ]
  },
  {
   "cell_type": "code",
   "execution_count": 16,
   "id": "e58007b3",
   "metadata": {},
   "outputs": [
    {
     "data": {
      "text/html": [
       "<div>\n",
       "<style scoped>\n",
       "    .dataframe tbody tr th:only-of-type {\n",
       "        vertical-align: middle;\n",
       "    }\n",
       "\n",
       "    .dataframe tbody tr th {\n",
       "        vertical-align: top;\n",
       "    }\n",
       "\n",
       "    .dataframe thead th {\n",
       "        text-align: right;\n",
       "    }\n",
       "</style>\n",
       "<table border=\"1\" class=\"dataframe\">\n",
       "  <thead>\n",
       "    <tr style=\"text-align: right;\">\n",
       "      <th></th>\n",
       "      <th>day</th>\n",
       "      <th>month</th>\n",
       "      <th>year</th>\n",
       "      <th>Temperature</th>\n",
       "      <th>RH</th>\n",
       "      <th>Ws</th>\n",
       "      <th>Rain</th>\n",
       "      <th>FFMC</th>\n",
       "      <th>DMC</th>\n",
       "      <th>DC</th>\n",
       "      <th>ISI</th>\n",
       "      <th>BUI</th>\n",
       "      <th>FWI</th>\n",
       "      <th>Classes</th>\n",
       "      <th>Region</th>\n",
       "    </tr>\n",
       "  </thead>\n",
       "  <tbody>\n",
       "    <tr>\n",
       "      <th>168</th>\n",
       "      <td>14</td>\n",
       "      <td>7</td>\n",
       "      <td>2012</td>\n",
       "      <td>37</td>\n",
       "      <td>37</td>\n",
       "      <td>18</td>\n",
       "      <td>0.2</td>\n",
       "      <td>88.9</td>\n",
       "      <td>12.9</td>\n",
       "      <td>14.6</td>\n",
       "      <td>12.5</td>\n",
       "      <td>10.4</td>\n",
       "      <td>5.0</td>\n",
       "      <td>NaN</td>\n",
       "      <td>1</td>\n",
       "    </tr>\n",
       "    <tr>\n",
       "      <th>169</th>\n",
       "      <td>15</td>\n",
       "      <td>7</td>\n",
       "      <td>2012</td>\n",
       "      <td>34</td>\n",
       "      <td>45</td>\n",
       "      <td>17</td>\n",
       "      <td>0.0</td>\n",
       "      <td>90.5</td>\n",
       "      <td>18.0</td>\n",
       "      <td>24.1</td>\n",
       "      <td>10.9</td>\n",
       "      <td>17.7</td>\n",
       "      <td>14.1</td>\n",
       "      <td>fire</td>\n",
       "      <td>1</td>\n",
       "    </tr>\n",
       "    <tr>\n",
       "      <th>170</th>\n",
       "      <td>16</td>\n",
       "      <td>7</td>\n",
       "      <td>2012</td>\n",
       "      <td>31</td>\n",
       "      <td>83</td>\n",
       "      <td>17</td>\n",
       "      <td>0.0</td>\n",
       "      <td>84.5</td>\n",
       "      <td>19.4</td>\n",
       "      <td>33.1</td>\n",
       "      <td>4.7</td>\n",
       "      <td>19.2</td>\n",
       "      <td>7.3</td>\n",
       "      <td>fire</td>\n",
       "      <td>1</td>\n",
       "    </tr>\n",
       "    <tr>\n",
       "      <th>171</th>\n",
       "      <td>17</td>\n",
       "      <td>7</td>\n",
       "      <td>2012</td>\n",
       "      <td>32</td>\n",
       "      <td>81</td>\n",
       "      <td>17</td>\n",
       "      <td>0.0</td>\n",
       "      <td>84.6</td>\n",
       "      <td>21.1</td>\n",
       "      <td>42.3</td>\n",
       "      <td>4.7</td>\n",
       "      <td>20.9</td>\n",
       "      <td>7.7</td>\n",
       "      <td>fire</td>\n",
       "      <td>1</td>\n",
       "    </tr>\n",
       "    <tr>\n",
       "      <th>172</th>\n",
       "      <td>18</td>\n",
       "      <td>7</td>\n",
       "      <td>2012</td>\n",
       "      <td>33</td>\n",
       "      <td>68</td>\n",
       "      <td>15</td>\n",
       "      <td>0.0</td>\n",
       "      <td>86.1</td>\n",
       "      <td>23.9</td>\n",
       "      <td>51.6</td>\n",
       "      <td>5.2</td>\n",
       "      <td>23.9</td>\n",
       "      <td>9.1</td>\n",
       "      <td>fire</td>\n",
       "      <td>1</td>\n",
       "    </tr>\n",
       "    <tr>\n",
       "      <th>173</th>\n",
       "      <td>19</td>\n",
       "      <td>7</td>\n",
       "      <td>2012</td>\n",
       "      <td>34</td>\n",
       "      <td>58</td>\n",
       "      <td>16</td>\n",
       "      <td>0.0</td>\n",
       "      <td>88.1</td>\n",
       "      <td>27.8</td>\n",
       "      <td>61.1</td>\n",
       "      <td>7.3</td>\n",
       "      <td>27.7</td>\n",
       "      <td>13.0</td>\n",
       "      <td>fire</td>\n",
       "      <td>1</td>\n",
       "    </tr>\n",
       "    <tr>\n",
       "      <th>174</th>\n",
       "      <td>20</td>\n",
       "      <td>7</td>\n",
       "      <td>2012</td>\n",
       "      <td>36</td>\n",
       "      <td>50</td>\n",
       "      <td>16</td>\n",
       "      <td>0.0</td>\n",
       "      <td>89.9</td>\n",
       "      <td>32.7</td>\n",
       "      <td>71.0</td>\n",
       "      <td>9.5</td>\n",
       "      <td>32.6</td>\n",
       "      <td>17.3</td>\n",
       "      <td>fire</td>\n",
       "      <td>1</td>\n",
       "    </tr>\n",
       "    <tr>\n",
       "      <th>175</th>\n",
       "      <td>21</td>\n",
       "      <td>7</td>\n",
       "      <td>2012</td>\n",
       "      <td>36</td>\n",
       "      <td>29</td>\n",
       "      <td>18</td>\n",
       "      <td>0.0</td>\n",
       "      <td>93.9</td>\n",
       "      <td>39.6</td>\n",
       "      <td>80.6</td>\n",
       "      <td>18.5</td>\n",
       "      <td>39.5</td>\n",
       "      <td>30.0</td>\n",
       "      <td>fire</td>\n",
       "      <td>1</td>\n",
       "    </tr>\n",
       "    <tr>\n",
       "      <th>176</th>\n",
       "      <td>22</td>\n",
       "      <td>7</td>\n",
       "      <td>2012</td>\n",
       "      <td>32</td>\n",
       "      <td>48</td>\n",
       "      <td>18</td>\n",
       "      <td>0.0</td>\n",
       "      <td>91.5</td>\n",
       "      <td>44.2</td>\n",
       "      <td>90.1</td>\n",
       "      <td>13.2</td>\n",
       "      <td>44.0</td>\n",
       "      <td>25.4</td>\n",
       "      <td>fire</td>\n",
       "      <td>1</td>\n",
       "    </tr>\n",
       "  </tbody>\n",
       "</table>\n",
       "</div>"
      ],
      "text/plain": [
       "     day  month  year  Temperature  RH  Ws  Rain  FFMC   DMC    DC   ISI  \\\n",
       "168   14      7  2012           37  37  18   0.2  88.9  12.9  14.6  12.5   \n",
       "169   15      7  2012           34  45  17   0.0  90.5  18.0  24.1  10.9   \n",
       "170   16      7  2012           31  83  17   0.0  84.5  19.4  33.1   4.7   \n",
       "171   17      7  2012           32  81  17   0.0  84.6  21.1  42.3   4.7   \n",
       "172   18      7  2012           33  68  15   0.0  86.1  23.9  51.6   5.2   \n",
       "173   19      7  2012           34  58  16   0.0  88.1  27.8  61.1   7.3   \n",
       "174   20      7  2012           36  50  16   0.0  89.9  32.7  71.0   9.5   \n",
       "175   21      7  2012           36  29  18   0.0  93.9  39.6  80.6  18.5   \n",
       "176   22      7  2012           32  48  18   0.0  91.5  44.2  90.1  13.2   \n",
       "\n",
       "      BUI   FWI  Classes Region  \n",
       "168  10.4   5.0      NaN      1  \n",
       "169  17.7  14.1  fire         1  \n",
       "170  19.2   7.3  fire         1  \n",
       "171  20.9   7.7  fire         1  \n",
       "172  23.9   9.1  fire         1  \n",
       "173  27.7  13.0  fire         1  \n",
       "174  32.6  17.3  fire         1  \n",
       "175  39.5  30.0  fire         1  \n",
       "176  44.0  25.4  fire         1  "
      ]
     },
     "execution_count": 16,
     "metadata": {},
     "output_type": "execute_result"
    }
   ],
   "source": [
    "df[165:174]"
   ]
  },
  {
   "cell_type": "code",
   "execution_count": 17,
   "id": "b867815f",
   "metadata": {},
   "outputs": [
    {
     "data": {
      "text/plain": [
       "array(['not fire   ', 'fire   ', 'fire', 'fire ', 'not fire', 'not fire ',\n",
       "       'not fire     ', nan, 'not fire    '], dtype=object)"
      ]
     },
     "execution_count": 17,
     "metadata": {},
     "output_type": "execute_result"
    }
   ],
   "source": [
    "df['Classes'].unique()"
   ]
  },
  {
   "cell_type": "code",
   "execution_count": 18,
   "id": "568f38d5",
   "metadata": {},
   "outputs": [],
   "source": [
    "df['Classes'] = df.Classes.str.replace(' ', '')"
   ]
  },
  {
   "cell_type": "code",
   "execution_count": 19,
   "id": "d7617cc0",
   "metadata": {},
   "outputs": [
    {
     "data": {
      "text/plain": [
       "'fire'"
      ]
     },
     "execution_count": 19,
     "metadata": {},
     "output_type": "execute_result"
    }
   ],
   "source": [
    "df['Classes'].mode()[0]"
   ]
  },
  {
   "cell_type": "code",
   "execution_count": 20,
   "id": "e4ad84f2",
   "metadata": {},
   "outputs": [],
   "source": [
    "# Filling the single NA value as we have one NA value and considering the mode as this is the categorical variable.\n",
    "df['Classes'].fillna(df['Classes'].mode()[0], inplace= True)"
   ]
  },
  {
   "cell_type": "code",
   "execution_count": 21,
   "id": "06b322f6",
   "metadata": {},
   "outputs": [],
   "source": [
    "#Replacing Not fire as 0 and Fire as 1\n",
    "\n",
    "df.replace({\"Classes\": {\"fire\": 1, \"notfire\": 0}}, inplace=True)"
   ]
  },
  {
   "cell_type": "code",
   "execution_count": 22,
   "id": "87c72134",
   "metadata": {
    "scrolled": true
   },
   "outputs": [
    {
     "data": {
      "text/html": [
       "<div>\n",
       "<style scoped>\n",
       "    .dataframe tbody tr th:only-of-type {\n",
       "        vertical-align: middle;\n",
       "    }\n",
       "\n",
       "    .dataframe tbody tr th {\n",
       "        vertical-align: top;\n",
       "    }\n",
       "\n",
       "    .dataframe thead th {\n",
       "        text-align: right;\n",
       "    }\n",
       "</style>\n",
       "<table border=\"1\" class=\"dataframe\">\n",
       "  <thead>\n",
       "    <tr style=\"text-align: right;\">\n",
       "      <th></th>\n",
       "      <th>day</th>\n",
       "      <th>month</th>\n",
       "      <th>year</th>\n",
       "      <th>Temperature</th>\n",
       "      <th>RH</th>\n",
       "      <th>Ws</th>\n",
       "      <th>Rain</th>\n",
       "      <th>FFMC</th>\n",
       "      <th>DMC</th>\n",
       "      <th>DC</th>\n",
       "      <th>ISI</th>\n",
       "      <th>BUI</th>\n",
       "      <th>FWI</th>\n",
       "      <th>Classes</th>\n",
       "      <th>Region</th>\n",
       "    </tr>\n",
       "  </thead>\n",
       "  <tbody>\n",
       "    <tr>\n",
       "      <th>0</th>\n",
       "      <td>1</td>\n",
       "      <td>6</td>\n",
       "      <td>2012</td>\n",
       "      <td>29</td>\n",
       "      <td>57</td>\n",
       "      <td>18</td>\n",
       "      <td>0.0</td>\n",
       "      <td>65.7</td>\n",
       "      <td>3.4</td>\n",
       "      <td>7.6</td>\n",
       "      <td>1.3</td>\n",
       "      <td>3.4</td>\n",
       "      <td>0.5</td>\n",
       "      <td>0</td>\n",
       "      <td>0</td>\n",
       "    </tr>\n",
       "    <tr>\n",
       "      <th>1</th>\n",
       "      <td>2</td>\n",
       "      <td>6</td>\n",
       "      <td>2012</td>\n",
       "      <td>29</td>\n",
       "      <td>61</td>\n",
       "      <td>13</td>\n",
       "      <td>1.3</td>\n",
       "      <td>64.4</td>\n",
       "      <td>4.1</td>\n",
       "      <td>7.6</td>\n",
       "      <td>1.0</td>\n",
       "      <td>3.9</td>\n",
       "      <td>0.4</td>\n",
       "      <td>0</td>\n",
       "      <td>0</td>\n",
       "    </tr>\n",
       "    <tr>\n",
       "      <th>2</th>\n",
       "      <td>3</td>\n",
       "      <td>6</td>\n",
       "      <td>2012</td>\n",
       "      <td>26</td>\n",
       "      <td>82</td>\n",
       "      <td>22</td>\n",
       "      <td>13.1</td>\n",
       "      <td>47.1</td>\n",
       "      <td>2.5</td>\n",
       "      <td>7.1</td>\n",
       "      <td>0.3</td>\n",
       "      <td>2.7</td>\n",
       "      <td>0.1</td>\n",
       "      <td>0</td>\n",
       "      <td>0</td>\n",
       "    </tr>\n",
       "    <tr>\n",
       "      <th>3</th>\n",
       "      <td>4</td>\n",
       "      <td>6</td>\n",
       "      <td>2012</td>\n",
       "      <td>25</td>\n",
       "      <td>89</td>\n",
       "      <td>13</td>\n",
       "      <td>2.5</td>\n",
       "      <td>28.6</td>\n",
       "      <td>1.3</td>\n",
       "      <td>6.9</td>\n",
       "      <td>0.0</td>\n",
       "      <td>1.7</td>\n",
       "      <td>0.0</td>\n",
       "      <td>0</td>\n",
       "      <td>0</td>\n",
       "    </tr>\n",
       "    <tr>\n",
       "      <th>4</th>\n",
       "      <td>5</td>\n",
       "      <td>6</td>\n",
       "      <td>2012</td>\n",
       "      <td>27</td>\n",
       "      <td>77</td>\n",
       "      <td>16</td>\n",
       "      <td>0.0</td>\n",
       "      <td>64.8</td>\n",
       "      <td>3.0</td>\n",
       "      <td>14.2</td>\n",
       "      <td>1.2</td>\n",
       "      <td>3.9</td>\n",
       "      <td>0.5</td>\n",
       "      <td>0</td>\n",
       "      <td>0</td>\n",
       "    </tr>\n",
       "  </tbody>\n",
       "</table>\n",
       "</div>"
      ],
      "text/plain": [
       "   day  month  year  Temperature  RH  Ws  Rain  FFMC  DMC    DC  ISI  BUI  \\\n",
       "0    1      6  2012           29  57  18   0.0  65.7  3.4   7.6  1.3  3.4   \n",
       "1    2      6  2012           29  61  13   1.3  64.4  4.1   7.6  1.0  3.9   \n",
       "2    3      6  2012           26  82  22  13.1  47.1  2.5   7.1  0.3  2.7   \n",
       "3    4      6  2012           25  89  13   2.5  28.6  1.3   6.9  0.0  1.7   \n",
       "4    5      6  2012           27  77  16   0.0  64.8  3.0  14.2  1.2  3.9   \n",
       "\n",
       "   FWI  Classes Region  \n",
       "0  0.5        0      0  \n",
       "1  0.4        0      0  \n",
       "2  0.1        0      0  \n",
       "3  0.0        0      0  \n",
       "4  0.5        0      0  "
      ]
     },
     "execution_count": 22,
     "metadata": {},
     "output_type": "execute_result"
    }
   ],
   "source": [
    "df.head()"
   ]
  },
  {
   "cell_type": "code",
   "execution_count": 23,
   "id": "5988a424",
   "metadata": {},
   "outputs": [],
   "source": [
    "#sns.pairplot(df)\n"
   ]
  },
  {
   "cell_type": "code",
   "execution_count": 24,
   "id": "a2956b09",
   "metadata": {},
   "outputs": [
    {
     "data": {
      "text/html": [
       "<div>\n",
       "<style scoped>\n",
       "    .dataframe tbody tr th:only-of-type {\n",
       "        vertical-align: middle;\n",
       "    }\n",
       "\n",
       "    .dataframe tbody tr th {\n",
       "        vertical-align: top;\n",
       "    }\n",
       "\n",
       "    .dataframe thead th {\n",
       "        text-align: right;\n",
       "    }\n",
       "</style>\n",
       "<table border=\"1\" class=\"dataframe\">\n",
       "  <thead>\n",
       "    <tr style=\"text-align: right;\">\n",
       "      <th></th>\n",
       "      <th>day</th>\n",
       "      <th>month</th>\n",
       "      <th>year</th>\n",
       "      <th>Temperature</th>\n",
       "      <th>RH</th>\n",
       "      <th>Ws</th>\n",
       "      <th>Rain</th>\n",
       "      <th>FFMC</th>\n",
       "      <th>DMC</th>\n",
       "      <th>DC</th>\n",
       "      <th>ISI</th>\n",
       "      <th>BUI</th>\n",
       "      <th>FWI</th>\n",
       "      <th>Classes</th>\n",
       "      <th>Region</th>\n",
       "    </tr>\n",
       "  </thead>\n",
       "  <tbody>\n",
       "    <tr>\n",
       "      <th>0</th>\n",
       "      <td>1</td>\n",
       "      <td>6</td>\n",
       "      <td>2012</td>\n",
       "      <td>29</td>\n",
       "      <td>57</td>\n",
       "      <td>18</td>\n",
       "      <td>0.0</td>\n",
       "      <td>65.7</td>\n",
       "      <td>3.4</td>\n",
       "      <td>7.6</td>\n",
       "      <td>1.3</td>\n",
       "      <td>3.4</td>\n",
       "      <td>0.5</td>\n",
       "      <td>0</td>\n",
       "      <td>0</td>\n",
       "    </tr>\n",
       "    <tr>\n",
       "      <th>1</th>\n",
       "      <td>2</td>\n",
       "      <td>6</td>\n",
       "      <td>2012</td>\n",
       "      <td>29</td>\n",
       "      <td>61</td>\n",
       "      <td>13</td>\n",
       "      <td>1.3</td>\n",
       "      <td>64.4</td>\n",
       "      <td>4.1</td>\n",
       "      <td>7.6</td>\n",
       "      <td>1.0</td>\n",
       "      <td>3.9</td>\n",
       "      <td>0.4</td>\n",
       "      <td>0</td>\n",
       "      <td>0</td>\n",
       "    </tr>\n",
       "    <tr>\n",
       "      <th>2</th>\n",
       "      <td>3</td>\n",
       "      <td>6</td>\n",
       "      <td>2012</td>\n",
       "      <td>26</td>\n",
       "      <td>82</td>\n",
       "      <td>22</td>\n",
       "      <td>13.1</td>\n",
       "      <td>47.1</td>\n",
       "      <td>2.5</td>\n",
       "      <td>7.1</td>\n",
       "      <td>0.3</td>\n",
       "      <td>2.7</td>\n",
       "      <td>0.1</td>\n",
       "      <td>0</td>\n",
       "      <td>0</td>\n",
       "    </tr>\n",
       "    <tr>\n",
       "      <th>3</th>\n",
       "      <td>4</td>\n",
       "      <td>6</td>\n",
       "      <td>2012</td>\n",
       "      <td>25</td>\n",
       "      <td>89</td>\n",
       "      <td>13</td>\n",
       "      <td>2.5</td>\n",
       "      <td>28.6</td>\n",
       "      <td>1.3</td>\n",
       "      <td>6.9</td>\n",
       "      <td>0.0</td>\n",
       "      <td>1.7</td>\n",
       "      <td>0.0</td>\n",
       "      <td>0</td>\n",
       "      <td>0</td>\n",
       "    </tr>\n",
       "    <tr>\n",
       "      <th>4</th>\n",
       "      <td>5</td>\n",
       "      <td>6</td>\n",
       "      <td>2012</td>\n",
       "      <td>27</td>\n",
       "      <td>77</td>\n",
       "      <td>16</td>\n",
       "      <td>0.0</td>\n",
       "      <td>64.8</td>\n",
       "      <td>3.0</td>\n",
       "      <td>14.2</td>\n",
       "      <td>1.2</td>\n",
       "      <td>3.9</td>\n",
       "      <td>0.5</td>\n",
       "      <td>0</td>\n",
       "      <td>0</td>\n",
       "    </tr>\n",
       "    <tr>\n",
       "      <th>...</th>\n",
       "      <td>...</td>\n",
       "      <td>...</td>\n",
       "      <td>...</td>\n",
       "      <td>...</td>\n",
       "      <td>...</td>\n",
       "      <td>...</td>\n",
       "      <td>...</td>\n",
       "      <td>...</td>\n",
       "      <td>...</td>\n",
       "      <td>...</td>\n",
       "      <td>...</td>\n",
       "      <td>...</td>\n",
       "      <td>...</td>\n",
       "      <td>...</td>\n",
       "      <td>...</td>\n",
       "    </tr>\n",
       "    <tr>\n",
       "      <th>242</th>\n",
       "      <td>26</td>\n",
       "      <td>9</td>\n",
       "      <td>2012</td>\n",
       "      <td>30</td>\n",
       "      <td>65</td>\n",
       "      <td>14</td>\n",
       "      <td>0.0</td>\n",
       "      <td>85.4</td>\n",
       "      <td>16.0</td>\n",
       "      <td>44.5</td>\n",
       "      <td>4.5</td>\n",
       "      <td>16.9</td>\n",
       "      <td>6.5</td>\n",
       "      <td>1</td>\n",
       "      <td>1</td>\n",
       "    </tr>\n",
       "    <tr>\n",
       "      <th>243</th>\n",
       "      <td>27</td>\n",
       "      <td>9</td>\n",
       "      <td>2012</td>\n",
       "      <td>28</td>\n",
       "      <td>87</td>\n",
       "      <td>15</td>\n",
       "      <td>4.4</td>\n",
       "      <td>41.1</td>\n",
       "      <td>6.5</td>\n",
       "      <td>8.0</td>\n",
       "      <td>0.1</td>\n",
       "      <td>6.2</td>\n",
       "      <td>0.0</td>\n",
       "      <td>0</td>\n",
       "      <td>1</td>\n",
       "    </tr>\n",
       "    <tr>\n",
       "      <th>244</th>\n",
       "      <td>28</td>\n",
       "      <td>9</td>\n",
       "      <td>2012</td>\n",
       "      <td>27</td>\n",
       "      <td>87</td>\n",
       "      <td>29</td>\n",
       "      <td>0.5</td>\n",
       "      <td>45.9</td>\n",
       "      <td>3.5</td>\n",
       "      <td>7.9</td>\n",
       "      <td>0.4</td>\n",
       "      <td>3.4</td>\n",
       "      <td>0.2</td>\n",
       "      <td>0</td>\n",
       "      <td>1</td>\n",
       "    </tr>\n",
       "    <tr>\n",
       "      <th>245</th>\n",
       "      <td>29</td>\n",
       "      <td>9</td>\n",
       "      <td>2012</td>\n",
       "      <td>24</td>\n",
       "      <td>54</td>\n",
       "      <td>18</td>\n",
       "      <td>0.1</td>\n",
       "      <td>79.7</td>\n",
       "      <td>4.3</td>\n",
       "      <td>15.2</td>\n",
       "      <td>1.7</td>\n",
       "      <td>5.1</td>\n",
       "      <td>0.7</td>\n",
       "      <td>0</td>\n",
       "      <td>1</td>\n",
       "    </tr>\n",
       "    <tr>\n",
       "      <th>246</th>\n",
       "      <td>30</td>\n",
       "      <td>9</td>\n",
       "      <td>2012</td>\n",
       "      <td>24</td>\n",
       "      <td>64</td>\n",
       "      <td>15</td>\n",
       "      <td>0.2</td>\n",
       "      <td>67.3</td>\n",
       "      <td>3.8</td>\n",
       "      <td>16.5</td>\n",
       "      <td>1.2</td>\n",
       "      <td>4.8</td>\n",
       "      <td>0.5</td>\n",
       "      <td>0</td>\n",
       "      <td>1</td>\n",
       "    </tr>\n",
       "  </tbody>\n",
       "</table>\n",
       "<p>244 rows × 15 columns</p>\n",
       "</div>"
      ],
      "text/plain": [
       "     day  month  year  Temperature  RH  Ws  Rain  FFMC   DMC    DC  ISI   BUI  \\\n",
       "0      1      6  2012           29  57  18   0.0  65.7   3.4   7.6  1.3   3.4   \n",
       "1      2      6  2012           29  61  13   1.3  64.4   4.1   7.6  1.0   3.9   \n",
       "2      3      6  2012           26  82  22  13.1  47.1   2.5   7.1  0.3   2.7   \n",
       "3      4      6  2012           25  89  13   2.5  28.6   1.3   6.9  0.0   1.7   \n",
       "4      5      6  2012           27  77  16   0.0  64.8   3.0  14.2  1.2   3.9   \n",
       "..   ...    ...   ...          ...  ..  ..   ...   ...   ...   ...  ...   ...   \n",
       "242   26      9  2012           30  65  14   0.0  85.4  16.0  44.5  4.5  16.9   \n",
       "243   27      9  2012           28  87  15   4.4  41.1   6.5   8.0  0.1   6.2   \n",
       "244   28      9  2012           27  87  29   0.5  45.9   3.5   7.9  0.4   3.4   \n",
       "245   29      9  2012           24  54  18   0.1  79.7   4.3  15.2  1.7   5.1   \n",
       "246   30      9  2012           24  64  15   0.2  67.3   3.8  16.5  1.2   4.8   \n",
       "\n",
       "     FWI  Classes Region  \n",
       "0    0.5        0      0  \n",
       "1    0.4        0      0  \n",
       "2    0.1        0      0  \n",
       "3    0.0        0      0  \n",
       "4    0.5        0      0  \n",
       "..   ...      ...    ...  \n",
       "242  6.5        1      1  \n",
       "243  0.0        0      1  \n",
       "244  0.2        0      1  \n",
       "245  0.7        0      1  \n",
       "246  0.5        0      1  \n",
       "\n",
       "[244 rows x 15 columns]"
      ]
     },
     "execution_count": 24,
     "metadata": {},
     "output_type": "execute_result"
    }
   ],
   "source": [
    "df"
   ]
  },
  {
   "cell_type": "code",
   "execution_count": 25,
   "id": "1cfb715c",
   "metadata": {},
   "outputs": [
    {
     "data": {
      "text/plain": [
       "<AxesSubplot:xlabel='Classes', ylabel='Temperature'>"
      ]
     },
     "execution_count": 25,
     "metadata": {},
     "output_type": "execute_result"
    },
    {
     "data": {
      "image/png": "[encoded data removed]",
      "text/plain": [
       "<Figure size 504x432 with 1 Axes>"
      ]
     },
     "metadata": {},
     "output_type": "display_data"
    }
   ],
   "source": [
    "sns.set(rc={'figure.figsize':(7,6)})\n",
    "sns.barplot(x= \"Classes\", y=\"Temperature\", data=df, hue=\"Region\")"
   ]
  },
  {
   "cell_type": "markdown",
   "id": "67e68b06",
   "metadata": {},
   "source": [
    "# Observations"
   ]
  },
  {
   "cell_type": "markdown",
   "id": "22aeedcb",
   "metadata": {},
   "source": [
    "As per the above barplot as the temperature rises the chances of the fire increases, which is also more obvious."
   ]
  },
  {
   "cell_type": "code",
   "execution_count": 26,
   "id": "f54d36db",
   "metadata": {},
   "outputs": [
    {
     "data": {
      "text/plain": [
       "<AxesSubplot:xlabel='Classes', ylabel='month'>"
      ]
     },
     "execution_count": 26,
     "metadata": {},
     "output_type": "execute_result"
    },
    {
     "data": {
      "image/png": "[encoded data removed]",
      "text/plain": [
       "<Figure size 504x432 with 1 Axes>"
      ]
     },
     "metadata": {},
     "output_type": "display_data"
    }
   ],
   "source": [
    "sns.barplot(x= \"Classes\", y=\"month\", data=df, hue=\"Region\")"
   ]
  },
  {
   "cell_type": "code",
   "execution_count": 27,
   "id": "69be7295",
   "metadata": {},
   "outputs": [
    {
     "data": {
      "text/plain": [
       "<AxesSubplot:xlabel='Classes', ylabel='Rain'>"
      ]
     },
     "execution_count": 27,
     "metadata": {},
     "output_type": "execute_result"
    },
    {
     "data": {
      "image/png": "[encoded data removed]",
      "text/plain": [
       "<Figure size 504x432 with 1 Axes>"
      ]
     },
     "metadata": {},
     "output_type": "display_data"
    }
   ],
   "source": [
    "sns.barplot(x= \"Classes\", y=\"Rain\", data=df, hue=\"Region\")"
   ]
  },
  {
   "cell_type": "markdown",
   "id": "1e5caa2d",
   "metadata": {},
   "source": [
    "# Observations"
   ]
  },
  {
   "cell_type": "markdown",
   "id": "f11157f7",
   "metadata": {},
   "source": [
    "As per the above bar plot if the rainfall is low then there is more chance of fire, and that is obvious too. And as per observation only fire happend in \"Sidi-Bel Abbes Region\". "
   ]
  },
  {
   "cell_type": "code",
   "execution_count": 28,
   "id": "1b7df0a8",
   "metadata": {},
   "outputs": [
    {
     "data": {
      "text/plain": [
       "<AxesSubplot:xlabel='Classes', ylabel='day'>"
      ]
     },
     "execution_count": 28,
     "metadata": {},
     "output_type": "execute_result"
    },
    {
     "data": {
      "image/png": "[encoded data removed]",
      "text/plain": [
       "<Figure size 504x432 with 1 Axes>"
      ]
     },
     "metadata": {},
     "output_type": "display_data"
    }
   ],
   "source": [
    "sns.barplot(x= \"Classes\", y=\"day\", data=df,hue=\"Region\")"
   ]
  },
  {
   "cell_type": "code",
   "execution_count": 29,
   "id": "c127f3e7",
   "metadata": {},
   "outputs": [
    {
     "data": {
      "text/plain": [
       "<AxesSubplot:xlabel='Classes', ylabel='Ws'>"
      ]
     },
     "execution_count": 29,
     "metadata": {},
     "output_type": "execute_result"
    },
    {
     "data": {
      "image/png": "[encoded data removed]",
      "text/plain": [
       "<Figure size 504x432 with 1 Axes>"
      ]
     },
     "metadata": {},
     "output_type": "display_data"
    }
   ],
   "source": [
    "sns.barplot(x= \"Classes\", y=\"Ws\", data=df, hue=\"Region\")"
   ]
  },
  {
   "cell_type": "code",
   "execution_count": 30,
   "id": "840a9f56",
   "metadata": {},
   "outputs": [
    {
     "data": {
      "text/plain": [
       "<AxesSubplot:xlabel='day', ylabel='Temperature'>"
      ]
     },
     "execution_count": 30,
     "metadata": {},
     "output_type": "execute_result"
    },
    {
     "data": {
      "image/png": "[encoded data removed]",
      "text/plain": [
       "<Figure size 504x432 with 1 Axes>"
      ]
     },
     "metadata": {},
     "output_type": "display_data"
    }
   ],
   "source": [
    "sns.barplot(x= \"day\", y=\"Temperature\", hue=\"Region\" ,data=df)"
   ]
  },
  {
   "cell_type": "markdown",
   "id": "9c1b9086",
   "metadata": {},
   "source": [
    "# Observations"
   ]
  },
  {
   "cell_type": "markdown",
   "id": "eb97d190",
   "metadata": {},
   "source": [
    "As per the above bar plot the temerature ranges between Celsius degrees 25 to 35. "
   ]
  },
  {
   "cell_type": "code",
   "execution_count": 31,
   "id": "e89806fc",
   "metadata": {},
   "outputs": [
    {
     "data": {
      "text/plain": [
       "<AxesSubplot:xlabel='day', ylabel='Temperature'>"
      ]
     },
     "execution_count": 31,
     "metadata": {},
     "output_type": "execute_result"
    },
    {
     "data": {
      "image/png": "[encoded data removed]",
      "text/plain": [
       "<Figure size 504x432 with 1 Axes>"
      ]
     },
     "metadata": {},
     "output_type": "display_data"
    }
   ],
   "source": [
    "sns.scatterplot(x='day',y='Temperature',hue = \"Classes\",style= \"Region\", data=df)"
   ]
  },
  {
   "cell_type": "markdown",
   "id": "efa315b2",
   "metadata": {},
   "source": [
    "# Observation:\n",
    "\n"
   ]
  },
  {
   "cell_type": "code",
   "execution_count": 32,
   "id": "0848b9a6",
   "metadata": {},
   "outputs": [
    {
     "data": {
      "text/plain": [
       "<seaborn.axisgrid.FacetGrid at 0x195c0aa62e0>"
      ]
     },
     "execution_count": 32,
     "metadata": {},
     "output_type": "execute_result"
    },
    {
     "data": {
      "image/png": "[encoded data removed]",
      "text/plain": [
       "<Figure size 765.725x360 with 2 Axes>"
      ]
     },
     "metadata": {},
     "output_type": "display_data"
    }
   ],
   "source": [
    "sns.relplot(\n",
    "    data=df, x=\"Region\", y=\"Temperature\",\n",
    "     hue=\"month\",col=\"Classes\",\n",
    "    kind=\"scatter\"\n",
    ")"
   ]
  },
  {
   "cell_type": "markdown",
   "id": "c6df1ac6",
   "metadata": {},
   "source": [
    "# Observation:\n",
    "\n",
    "As per the above plot it is identified that in \"Sidi-Bel Abbes Region\" and \"Bejaia Region\" most of the fire happend in 7 to 9 month. "
   ]
  },
  {
   "cell_type": "code",
   "execution_count": 33,
   "id": "c198dc70",
   "metadata": {},
   "outputs": [
    {
     "data": {
      "text/html": [
       "<div>\n",
       "<style scoped>\n",
       "    .dataframe tbody tr th:only-of-type {\n",
       "        vertical-align: middle;\n",
       "    }\n",
       "\n",
       "    .dataframe tbody tr th {\n",
       "        vertical-align: top;\n",
       "    }\n",
       "\n",
       "    .dataframe thead th {\n",
       "        text-align: right;\n",
       "    }\n",
       "</style>\n",
       "<table border=\"1\" class=\"dataframe\">\n",
       "  <thead>\n",
       "    <tr style=\"text-align: right;\">\n",
       "      <th></th>\n",
       "      <th>day</th>\n",
       "      <th>month</th>\n",
       "      <th>year</th>\n",
       "      <th>Temperature</th>\n",
       "      <th>RH</th>\n",
       "      <th>Ws</th>\n",
       "      <th>Rain</th>\n",
       "      <th>FFMC</th>\n",
       "      <th>DMC</th>\n",
       "      <th>DC</th>\n",
       "      <th>ISI</th>\n",
       "      <th>BUI</th>\n",
       "      <th>FWI</th>\n",
       "      <th>Classes</th>\n",
       "      <th>Region</th>\n",
       "    </tr>\n",
       "  </thead>\n",
       "  <tbody>\n",
       "    <tr>\n",
       "      <th>0</th>\n",
       "      <td>1</td>\n",
       "      <td>6</td>\n",
       "      <td>2012</td>\n",
       "      <td>29</td>\n",
       "      <td>57</td>\n",
       "      <td>18</td>\n",
       "      <td>0.0</td>\n",
       "      <td>65.7</td>\n",
       "      <td>3.4</td>\n",
       "      <td>7.6</td>\n",
       "      <td>1.3</td>\n",
       "      <td>3.4</td>\n",
       "      <td>0.5</td>\n",
       "      <td>0</td>\n",
       "      <td>0</td>\n",
       "    </tr>\n",
       "    <tr>\n",
       "      <th>1</th>\n",
       "      <td>2</td>\n",
       "      <td>6</td>\n",
       "      <td>2012</td>\n",
       "      <td>29</td>\n",
       "      <td>61</td>\n",
       "      <td>13</td>\n",
       "      <td>1.3</td>\n",
       "      <td>64.4</td>\n",
       "      <td>4.1</td>\n",
       "      <td>7.6</td>\n",
       "      <td>1.0</td>\n",
       "      <td>3.9</td>\n",
       "      <td>0.4</td>\n",
       "      <td>0</td>\n",
       "      <td>0</td>\n",
       "    </tr>\n",
       "    <tr>\n",
       "      <th>2</th>\n",
       "      <td>3</td>\n",
       "      <td>6</td>\n",
       "      <td>2012</td>\n",
       "      <td>26</td>\n",
       "      <td>82</td>\n",
       "      <td>22</td>\n",
       "      <td>13.1</td>\n",
       "      <td>47.1</td>\n",
       "      <td>2.5</td>\n",
       "      <td>7.1</td>\n",
       "      <td>0.3</td>\n",
       "      <td>2.7</td>\n",
       "      <td>0.1</td>\n",
       "      <td>0</td>\n",
       "      <td>0</td>\n",
       "    </tr>\n",
       "    <tr>\n",
       "      <th>3</th>\n",
       "      <td>4</td>\n",
       "      <td>6</td>\n",
       "      <td>2012</td>\n",
       "      <td>25</td>\n",
       "      <td>89</td>\n",
       "      <td>13</td>\n",
       "      <td>2.5</td>\n",
       "      <td>28.6</td>\n",
       "      <td>1.3</td>\n",
       "      <td>6.9</td>\n",
       "      <td>0.0</td>\n",
       "      <td>1.7</td>\n",
       "      <td>0.0</td>\n",
       "      <td>0</td>\n",
       "      <td>0</td>\n",
       "    </tr>\n",
       "    <tr>\n",
       "      <th>4</th>\n",
       "      <td>5</td>\n",
       "      <td>6</td>\n",
       "      <td>2012</td>\n",
       "      <td>27</td>\n",
       "      <td>77</td>\n",
       "      <td>16</td>\n",
       "      <td>0.0</td>\n",
       "      <td>64.8</td>\n",
       "      <td>3.0</td>\n",
       "      <td>14.2</td>\n",
       "      <td>1.2</td>\n",
       "      <td>3.9</td>\n",
       "      <td>0.5</td>\n",
       "      <td>0</td>\n",
       "      <td>0</td>\n",
       "    </tr>\n",
       "    <tr>\n",
       "      <th>...</th>\n",
       "      <td>...</td>\n",
       "      <td>...</td>\n",
       "      <td>...</td>\n",
       "      <td>...</td>\n",
       "      <td>...</td>\n",
       "      <td>...</td>\n",
       "      <td>...</td>\n",
       "      <td>...</td>\n",
       "      <td>...</td>\n",
       "      <td>...</td>\n",
       "      <td>...</td>\n",
       "      <td>...</td>\n",
       "      <td>...</td>\n",
       "      <td>...</td>\n",
       "      <td>...</td>\n",
       "    </tr>\n",
       "    <tr>\n",
       "      <th>242</th>\n",
       "      <td>26</td>\n",
       "      <td>9</td>\n",
       "      <td>2012</td>\n",
       "      <td>30</td>\n",
       "      <td>65</td>\n",
       "      <td>14</td>\n",
       "      <td>0.0</td>\n",
       "      <td>85.4</td>\n",
       "      <td>16.0</td>\n",
       "      <td>44.5</td>\n",
       "      <td>4.5</td>\n",
       "      <td>16.9</td>\n",
       "      <td>6.5</td>\n",
       "      <td>1</td>\n",
       "      <td>1</td>\n",
       "    </tr>\n",
       "    <tr>\n",
       "      <th>243</th>\n",
       "      <td>27</td>\n",
       "      <td>9</td>\n",
       "      <td>2012</td>\n",
       "      <td>28</td>\n",
       "      <td>87</td>\n",
       "      <td>15</td>\n",
       "      <td>4.4</td>\n",
       "      <td>41.1</td>\n",
       "      <td>6.5</td>\n",
       "      <td>8.0</td>\n",
       "      <td>0.1</td>\n",
       "      <td>6.2</td>\n",
       "      <td>0.0</td>\n",
       "      <td>0</td>\n",
       "      <td>1</td>\n",
       "    </tr>\n",
       "    <tr>\n",
       "      <th>244</th>\n",
       "      <td>28</td>\n",
       "      <td>9</td>\n",
       "      <td>2012</td>\n",
       "      <td>27</td>\n",
       "      <td>87</td>\n",
       "      <td>29</td>\n",
       "      <td>0.5</td>\n",
       "      <td>45.9</td>\n",
       "      <td>3.5</td>\n",
       "      <td>7.9</td>\n",
       "      <td>0.4</td>\n",
       "      <td>3.4</td>\n",
       "      <td>0.2</td>\n",
       "      <td>0</td>\n",
       "      <td>1</td>\n",
       "    </tr>\n",
       "    <tr>\n",
       "      <th>245</th>\n",
       "      <td>29</td>\n",
       "      <td>9</td>\n",
       "      <td>2012</td>\n",
       "      <td>24</td>\n",
       "      <td>54</td>\n",
       "      <td>18</td>\n",
       "      <td>0.1</td>\n",
       "      <td>79.7</td>\n",
       "      <td>4.3</td>\n",
       "      <td>15.2</td>\n",
       "      <td>1.7</td>\n",
       "      <td>5.1</td>\n",
       "      <td>0.7</td>\n",
       "      <td>0</td>\n",
       "      <td>1</td>\n",
       "    </tr>\n",
       "    <tr>\n",
       "      <th>246</th>\n",
       "      <td>30</td>\n",
       "      <td>9</td>\n",
       "      <td>2012</td>\n",
       "      <td>24</td>\n",
       "      <td>64</td>\n",
       "      <td>15</td>\n",
       "      <td>0.2</td>\n",
       "      <td>67.3</td>\n",
       "      <td>3.8</td>\n",
       "      <td>16.5</td>\n",
       "      <td>1.2</td>\n",
       "      <td>4.8</td>\n",
       "      <td>0.5</td>\n",
       "      <td>0</td>\n",
       "      <td>1</td>\n",
       "    </tr>\n",
       "  </tbody>\n",
       "</table>\n",
       "<p>244 rows × 15 columns</p>\n",
       "</div>"
      ],
      "text/plain": [
       "     day  month  year  Temperature  RH  Ws  Rain  FFMC   DMC    DC  ISI   BUI  \\\n",
       "0      1      6  2012           29  57  18   0.0  65.7   3.4   7.6  1.3   3.4   \n",
       "1      2      6  2012           29  61  13   1.3  64.4   4.1   7.6  1.0   3.9   \n",
       "2      3      6  2012           26  82  22  13.1  47.1   2.5   7.1  0.3   2.7   \n",
       "3      4      6  2012           25  89  13   2.5  28.6   1.3   6.9  0.0   1.7   \n",
       "4      5      6  2012           27  77  16   0.0  64.8   3.0  14.2  1.2   3.9   \n",
       "..   ...    ...   ...          ...  ..  ..   ...   ...   ...   ...  ...   ...   \n",
       "242   26      9  2012           30  65  14   0.0  85.4  16.0  44.5  4.5  16.9   \n",
       "243   27      9  2012           28  87  15   4.4  41.1   6.5   8.0  0.1   6.2   \n",
       "244   28      9  2012           27  87  29   0.5  45.9   3.5   7.9  0.4   3.4   \n",
       "245   29      9  2012           24  54  18   0.1  79.7   4.3  15.2  1.7   5.1   \n",
       "246   30      9  2012           24  64  15   0.2  67.3   3.8  16.5  1.2   4.8   \n",
       "\n",
       "     FWI  Classes Region  \n",
       "0    0.5        0      0  \n",
       "1    0.4        0      0  \n",
       "2    0.1        0      0  \n",
       "3    0.0        0      0  \n",
       "4    0.5        0      0  \n",
       "..   ...      ...    ...  \n",
       "242  6.5        1      1  \n",
       "243  0.0        0      1  \n",
       "244  0.2        0      1  \n",
       "245  0.7        0      1  \n",
       "246  0.5        0      1  \n",
       "\n",
       "[244 rows x 15 columns]"
      ]
     },
     "execution_count": 33,
     "metadata": {},
     "output_type": "execute_result"
    }
   ],
   "source": [
    "df"
   ]
  },
  {
   "cell_type": "code",
   "execution_count": 34,
   "id": "807cd5aa",
   "metadata": {},
   "outputs": [
    {
     "data": {
      "text/html": [
       "<div>\n",
       "<style scoped>\n",
       "    .dataframe tbody tr th:only-of-type {\n",
       "        vertical-align: middle;\n",
       "    }\n",
       "\n",
       "    .dataframe tbody tr th {\n",
       "        vertical-align: top;\n",
       "    }\n",
       "\n",
       "    .dataframe thead th {\n",
       "        text-align: right;\n",
       "    }\n",
       "</style>\n",
       "<table border=\"1\" class=\"dataframe\">\n",
       "  <thead>\n",
       "    <tr style=\"text-align: right;\">\n",
       "      <th></th>\n",
       "      <th>day</th>\n",
       "      <th>month</th>\n",
       "      <th>year</th>\n",
       "      <th>Temperature</th>\n",
       "      <th>RH</th>\n",
       "      <th>Ws</th>\n",
       "      <th>Rain</th>\n",
       "      <th>FFMC</th>\n",
       "      <th>DMC</th>\n",
       "      <th>DC</th>\n",
       "      <th>ISI</th>\n",
       "      <th>BUI</th>\n",
       "      <th>FWI</th>\n",
       "      <th>Classes</th>\n",
       "    </tr>\n",
       "  </thead>\n",
       "  <tbody>\n",
       "    <tr>\n",
       "      <th>day</th>\n",
       "      <td>1.000000e+00</td>\n",
       "      <td>2.232788e-17</td>\n",
       "      <td>NaN</td>\n",
       "      <td>0.095772</td>\n",
       "      <td>-0.074209</td>\n",
       "      <td>0.047001</td>\n",
       "      <td>-0.112265</td>\n",
       "      <td>0.224032</td>\n",
       "      <td>0.491571</td>\n",
       "      <td>0.527929</td>\n",
       "      <td>0.177727</td>\n",
       "      <td>0.517229</td>\n",
       "      <td>0.350922</td>\n",
       "      <td>0.201784</td>\n",
       "    </tr>\n",
       "    <tr>\n",
       "      <th>month</th>\n",
       "      <td>2.232788e-17</td>\n",
       "      <td>1.000000e+00</td>\n",
       "      <td>NaN</td>\n",
       "      <td>-0.059017</td>\n",
       "      <td>-0.037884</td>\n",
       "      <td>-0.041447</td>\n",
       "      <td>0.035322</td>\n",
       "      <td>0.015577</td>\n",
       "      <td>0.068178</td>\n",
       "      <td>0.127672</td>\n",
       "      <td>0.061680</td>\n",
       "      <td>0.085822</td>\n",
       "      <td>0.083098</td>\n",
       "      <td>0.022333</td>\n",
       "    </tr>\n",
       "    <tr>\n",
       "      <th>year</th>\n",
       "      <td>NaN</td>\n",
       "      <td>NaN</td>\n",
       "      <td>NaN</td>\n",
       "      <td>NaN</td>\n",
       "      <td>NaN</td>\n",
       "      <td>NaN</td>\n",
       "      <td>NaN</td>\n",
       "      <td>NaN</td>\n",
       "      <td>NaN</td>\n",
       "      <td>NaN</td>\n",
       "      <td>NaN</td>\n",
       "      <td>NaN</td>\n",
       "      <td>NaN</td>\n",
       "      <td>NaN</td>\n",
       "    </tr>\n",
       "    <tr>\n",
       "      <th>Temperature</th>\n",
       "      <td>9.577222e-02</td>\n",
       "      <td>-5.901677e-02</td>\n",
       "      <td>NaN</td>\n",
       "      <td>1.000000</td>\n",
       "      <td>-0.654443</td>\n",
       "      <td>-0.278132</td>\n",
       "      <td>-0.326786</td>\n",
       "      <td>0.677491</td>\n",
       "      <td>0.483105</td>\n",
       "      <td>0.370498</td>\n",
       "      <td>0.607551</td>\n",
       "      <td>0.455504</td>\n",
       "      <td>0.563014</td>\n",
       "      <td>0.518119</td>\n",
       "    </tr>\n",
       "    <tr>\n",
       "      <th>RH</th>\n",
       "      <td>-7.420934e-02</td>\n",
       "      <td>-3.788419e-02</td>\n",
       "      <td>NaN</td>\n",
       "      <td>-0.654443</td>\n",
       "      <td>1.000000</td>\n",
       "      <td>0.236084</td>\n",
       "      <td>0.222968</td>\n",
       "      <td>-0.645658</td>\n",
       "      <td>-0.405133</td>\n",
       "      <td>-0.220330</td>\n",
       "      <td>-0.690637</td>\n",
       "      <td>-0.348587</td>\n",
       "      <td>-0.575599</td>\n",
       "      <td>-0.435023</td>\n",
       "    </tr>\n",
       "    <tr>\n",
       "      <th>Ws</th>\n",
       "      <td>4.700086e-02</td>\n",
       "      <td>-4.144673e-02</td>\n",
       "      <td>NaN</td>\n",
       "      <td>-0.278132</td>\n",
       "      <td>0.236084</td>\n",
       "      <td>1.000000</td>\n",
       "      <td>0.170169</td>\n",
       "      <td>-0.163255</td>\n",
       "      <td>-0.001246</td>\n",
       "      <td>0.076245</td>\n",
       "      <td>0.015248</td>\n",
       "      <td>0.029756</td>\n",
       "      <td>0.031308</td>\n",
       "      <td>-0.066529</td>\n",
       "    </tr>\n",
       "    <tr>\n",
       "      <th>Rain</th>\n",
       "      <td>-1.122654e-01</td>\n",
       "      <td>3.532207e-02</td>\n",
       "      <td>NaN</td>\n",
       "      <td>-0.326786</td>\n",
       "      <td>0.222968</td>\n",
       "      <td>0.170169</td>\n",
       "      <td>1.000000</td>\n",
       "      <td>-0.544045</td>\n",
       "      <td>-0.288548</td>\n",
       "      <td>-0.296804</td>\n",
       "      <td>-0.347105</td>\n",
       "      <td>-0.299171</td>\n",
       "      <td>-0.324003</td>\n",
       "      <td>-0.379449</td>\n",
       "    </tr>\n",
       "    <tr>\n",
       "      <th>FFMC</th>\n",
       "      <td>2.240321e-01</td>\n",
       "      <td>1.557668e-02</td>\n",
       "      <td>NaN</td>\n",
       "      <td>0.677491</td>\n",
       "      <td>-0.645658</td>\n",
       "      <td>-0.163255</td>\n",
       "      <td>-0.544045</td>\n",
       "      <td>1.000000</td>\n",
       "      <td>0.602391</td>\n",
       "      <td>0.503910</td>\n",
       "      <td>0.739730</td>\n",
       "      <td>0.589652</td>\n",
       "      <td>0.689317</td>\n",
       "      <td>0.770114</td>\n",
       "    </tr>\n",
       "    <tr>\n",
       "      <th>DMC</th>\n",
       "      <td>4.915710e-01</td>\n",
       "      <td>6.817778e-02</td>\n",
       "      <td>NaN</td>\n",
       "      <td>0.483105</td>\n",
       "      <td>-0.405133</td>\n",
       "      <td>-0.001246</td>\n",
       "      <td>-0.288548</td>\n",
       "      <td>0.602391</td>\n",
       "      <td>1.000000</td>\n",
       "      <td>0.875358</td>\n",
       "      <td>0.674499</td>\n",
       "      <td>0.982073</td>\n",
       "      <td>0.875854</td>\n",
       "      <td>0.584188</td>\n",
       "    </tr>\n",
       "    <tr>\n",
       "      <th>DC</th>\n",
       "      <td>5.279285e-01</td>\n",
       "      <td>1.276719e-01</td>\n",
       "      <td>NaN</td>\n",
       "      <td>0.370498</td>\n",
       "      <td>-0.220330</td>\n",
       "      <td>0.076245</td>\n",
       "      <td>-0.296804</td>\n",
       "      <td>0.503910</td>\n",
       "      <td>0.875358</td>\n",
       "      <td>1.000000</td>\n",
       "      <td>0.498909</td>\n",
       "      <td>0.941904</td>\n",
       "      <td>0.739417</td>\n",
       "      <td>0.507122</td>\n",
       "    </tr>\n",
       "    <tr>\n",
       "      <th>ISI</th>\n",
       "      <td>1.777266e-01</td>\n",
       "      <td>6.168011e-02</td>\n",
       "      <td>NaN</td>\n",
       "      <td>0.607551</td>\n",
       "      <td>-0.690637</td>\n",
       "      <td>0.015248</td>\n",
       "      <td>-0.347105</td>\n",
       "      <td>0.739730</td>\n",
       "      <td>0.674499</td>\n",
       "      <td>0.498909</td>\n",
       "      <td>1.000000</td>\n",
       "      <td>0.635891</td>\n",
       "      <td>0.914115</td>\n",
       "      <td>0.735511</td>\n",
       "    </tr>\n",
       "    <tr>\n",
       "      <th>BUI</th>\n",
       "      <td>5.172292e-01</td>\n",
       "      <td>8.582162e-02</td>\n",
       "      <td>NaN</td>\n",
       "      <td>0.455504</td>\n",
       "      <td>-0.348587</td>\n",
       "      <td>0.029756</td>\n",
       "      <td>-0.299171</td>\n",
       "      <td>0.589652</td>\n",
       "      <td>0.982073</td>\n",
       "      <td>0.941904</td>\n",
       "      <td>0.635891</td>\n",
       "      <td>1.000000</td>\n",
       "      <td>0.857994</td>\n",
       "      <td>0.583882</td>\n",
       "    </tr>\n",
       "    <tr>\n",
       "      <th>FWI</th>\n",
       "      <td>3.509225e-01</td>\n",
       "      <td>8.309836e-02</td>\n",
       "      <td>NaN</td>\n",
       "      <td>0.563014</td>\n",
       "      <td>-0.575599</td>\n",
       "      <td>0.031308</td>\n",
       "      <td>-0.324003</td>\n",
       "      <td>0.689317</td>\n",
       "      <td>0.875854</td>\n",
       "      <td>0.739417</td>\n",
       "      <td>0.914115</td>\n",
       "      <td>0.857994</td>\n",
       "      <td>1.000000</td>\n",
       "      <td>0.716982</td>\n",
       "    </tr>\n",
       "    <tr>\n",
       "      <th>Classes</th>\n",
       "      <td>2.017844e-01</td>\n",
       "      <td>2.233266e-02</td>\n",
       "      <td>NaN</td>\n",
       "      <td>0.518119</td>\n",
       "      <td>-0.435023</td>\n",
       "      <td>-0.066529</td>\n",
       "      <td>-0.379449</td>\n",
       "      <td>0.770114</td>\n",
       "      <td>0.584188</td>\n",
       "      <td>0.507122</td>\n",
       "      <td>0.735511</td>\n",
       "      <td>0.583882</td>\n",
       "      <td>0.716982</td>\n",
       "      <td>1.000000</td>\n",
       "    </tr>\n",
       "  </tbody>\n",
       "</table>\n",
       "</div>"
      ],
      "text/plain": [
       "                      day         month  year  Temperature        RH  \\\n",
       "day          1.000000e+00  2.232788e-17   NaN     0.095772 -0.074209   \n",
       "month        2.232788e-17  1.000000e+00   NaN    -0.059017 -0.037884   \n",
       "year                  NaN           NaN   NaN          NaN       NaN   \n",
       "Temperature  9.577222e-02 -5.901677e-02   NaN     1.000000 -0.654443   \n",
       "RH          -7.420934e-02 -3.788419e-02   NaN    -0.654443  1.000000   \n",
       "Ws           4.700086e-02 -4.144673e-02   NaN    -0.278132  0.236084   \n",
       "Rain        -1.122654e-01  3.532207e-02   NaN    -0.326786  0.222968   \n",
       "FFMC         2.240321e-01  1.557668e-02   NaN     0.677491 -0.645658   \n",
       "DMC          4.915710e-01  6.817778e-02   NaN     0.483105 -0.405133   \n",
       "DC           5.279285e-01  1.276719e-01   NaN     0.370498 -0.220330   \n",
       "ISI          1.777266e-01  6.168011e-02   NaN     0.607551 -0.690637   \n",
       "BUI          5.172292e-01  8.582162e-02   NaN     0.455504 -0.348587   \n",
       "FWI          3.509225e-01  8.309836e-02   NaN     0.563014 -0.575599   \n",
       "Classes      2.017844e-01  2.233266e-02   NaN     0.518119 -0.435023   \n",
       "\n",
       "                   Ws      Rain      FFMC       DMC        DC       ISI  \\\n",
       "day          0.047001 -0.112265  0.224032  0.491571  0.527929  0.177727   \n",
       "month       -0.041447  0.035322  0.015577  0.068178  0.127672  0.061680   \n",
       "year              NaN       NaN       NaN       NaN       NaN       NaN   \n",
       "Temperature -0.278132 -0.326786  0.677491  0.483105  0.370498  0.607551   \n",
       "RH           0.236084  0.222968 -0.645658 -0.405133 -0.220330 -0.690637   \n",
       "Ws           1.000000  0.170169 -0.163255 -0.001246  0.076245  0.015248   \n",
       "Rain         0.170169  1.000000 -0.544045 -0.288548 -0.296804 -0.347105   \n",
       "FFMC        -0.163255 -0.544045  1.000000  0.602391  0.503910  0.739730   \n",
       "DMC         -0.001246 -0.288548  0.602391  1.000000  0.875358  0.674499   \n",
       "DC           0.076245 -0.296804  0.503910  0.875358  1.000000  0.498909   \n",
       "ISI          0.015248 -0.347105  0.739730  0.674499  0.498909  1.000000   \n",
       "BUI          0.029756 -0.299171  0.589652  0.982073  0.941904  0.635891   \n",
       "FWI          0.031308 -0.324003  0.689317  0.875854  0.739417  0.914115   \n",
       "Classes     -0.066529 -0.379449  0.770114  0.584188  0.507122  0.735511   \n",
       "\n",
       "                  BUI       FWI   Classes  \n",
       "day          0.517229  0.350922  0.201784  \n",
       "month        0.085822  0.083098  0.022333  \n",
       "year              NaN       NaN       NaN  \n",
       "Temperature  0.455504  0.563014  0.518119  \n",
       "RH          -0.348587 -0.575599 -0.435023  \n",
       "Ws           0.029756  0.031308 -0.066529  \n",
       "Rain        -0.299171 -0.324003 -0.379449  \n",
       "FFMC         0.589652  0.689317  0.770114  \n",
       "DMC          0.982073  0.875854  0.584188  \n",
       "DC           0.941904  0.739417  0.507122  \n",
       "ISI          0.635891  0.914115  0.735511  \n",
       "BUI          1.000000  0.857994  0.583882  \n",
       "FWI          0.857994  1.000000  0.716982  \n",
       "Classes      0.583882  0.716982  1.000000  "
      ]
     },
     "execution_count": 34,
     "metadata": {},
     "output_type": "execute_result"
    }
   ],
   "source": [
    "#Checking the Correlation\n",
    "df.corr()"
   ]
  },
  {
   "cell_type": "code",
   "execution_count": 35,
   "id": "60057195",
   "metadata": {},
   "outputs": [
    {
     "data": {
      "text/plain": [
       "<AxesSubplot:>"
      ]
     },
     "execution_count": 35,
     "metadata": {},
     "output_type": "execute_result"
    },
    {
     "data": {
      "image/png": "[encoded data removed]",
      "text/plain": [
       "<Figure size 864x576 with 2 Axes>"
      ]
     },
     "metadata": {},
     "output_type": "display_data"
    }
   ],
   "source": [
    "sns.set(rc={'figure.figsize':(12,8)})\n",
    "sns.heatmap(df.corr(),annot= True)"
   ]
  },
  {
   "cell_type": "code",
   "execution_count": 36,
   "id": "d172c02f",
   "metadata": {},
   "outputs": [
    {
     "data": {
      "text/plain": [
       "Text(0, 0.5, 'Wind speed in km/h')"
      ]
     },
     "execution_count": 36,
     "metadata": {},
     "output_type": "execute_result"
    },
    {
     "data": {
      "image/png": "[encoded data removed]",
      "text/plain": [
       "<Figure size 864x576 with 1 Axes>"
      ]
     },
     "metadata": {},
     "output_type": "display_data"
    }
   ],
   "source": [
    "plt.scatter(df['Temperature'],df['Ws'])\n",
    "plt.xlabel(\"Temperature in Celsius degrees\")\n",
    "plt.ylabel(\"Wind speed in km/h\")"
   ]
  },
  {
   "cell_type": "code",
   "execution_count": 37,
   "id": "821f5561",
   "metadata": {},
   "outputs": [
    {
     "data": {
      "text/plain": [
       "Text(0, 0.5, 'Rain in mm')"
      ]
     },
     "execution_count": 37,
     "metadata": {},
     "output_type": "execute_result"
    },
    {
     "data": {
      "image/png": "[encoded data removed]",
      "text/plain": [
       "<Figure size 864x576 with 1 Axes>"
      ]
     },
     "metadata": {},
     "output_type": "display_data"
    }
   ],
   "source": [
    "plt.scatter(df['Temperature'],df['Rain'])\n",
    "plt.xlabel(\"Temperature in Celsius degrees\")\n",
    "plt.ylabel(\"Rain in mm\")"
   ]
  },
  {
   "cell_type": "code",
   "execution_count": 38,
   "id": "fcdff227",
   "metadata": {},
   "outputs": [
    {
     "data": {
      "text/plain": [
       "Text(0, 0.5, 'Relative Humidity in %')"
      ]
     },
     "execution_count": 38,
     "metadata": {},
     "output_type": "execute_result"
    },
    {
     "data": {
      "image/png": "[encoded data removed]",
      "text/plain": [
       "<Figure size 864x576 with 1 Axes>"
      ]
     },
     "metadata": {},
     "output_type": "display_data"
    }
   ],
   "source": [
    "plt.scatter(df['Temperature'],df['RH'])\n",
    "plt.xlabel(\"Temperature in Celsius degrees\")\n",
    "plt.ylabel(\"Relative Humidity in %\")"
   ]
  },
  {
   "cell_type": "markdown",
   "id": "01f6dfea",
   "metadata": {},
   "source": [
    "# Observation :\n",
    "The relation between humidity and temperature is inversely proportional."
   ]
  },
  {
   "cell_type": "code",
   "execution_count": 39,
   "id": "877d6f35",
   "metadata": {},
   "outputs": [
    {
     "data": {
      "text/plain": [
       "<AxesSubplot:xlabel='Temperature', ylabel='Rain'>"
      ]
     },
     "execution_count": 39,
     "metadata": {},
     "output_type": "execute_result"
    },
    {
     "data": {
      "image/png": "[encoded data removed]",
      "text/plain": [
       "<Figure size 864x576 with 1 Axes>"
      ]
     },
     "metadata": {},
     "output_type": "display_data"
    }
   ],
   "source": [
    "sns.regplot(x=df['Temperature'], y=df['Rain'],data= df)"
   ]
  },
  {
   "cell_type": "code",
   "execution_count": 40,
   "id": "d34eeb33",
   "metadata": {},
   "outputs": [
    {
     "name": "stderr",
     "output_type": "stream",
     "text": [
      "C:\\Users\\w10\\anaconda3\\lib\\site-packages\\seaborn\\_decorators.py:36: FutureWarning: Pass the following variable as a keyword arg: x. From version 0.12, the only valid positional argument will be `data`, and passing other arguments without an explicit keyword will result in an error or misinterpretation.\n",
      "  warnings.warn(\n"
     ]
    },
    {
     "data": {
      "text/plain": [
       "<AxesSubplot:xlabel='RH'>"
      ]
     },
     "execution_count": 40,
     "metadata": {},
     "output_type": "execute_result"
    },
    {
     "data": {
      "image/png": "[encoded data removed]",
      "text/plain": [
       "<Figure size 864x576 with 1 Axes>"
      ]
     },
     "metadata": {},
     "output_type": "display_data"
    }
   ],
   "source": [
    "# Checking the outliers by boxplot\n",
    "sns.boxplot(df['RH'])"
   ]
  },
  {
   "cell_type": "code",
   "execution_count": 41,
   "id": "567b27d3",
   "metadata": {},
   "outputs": [
    {
     "data": {
      "text/html": [
       "<div>\n",
       "<style scoped>\n",
       "    .dataframe tbody tr th:only-of-type {\n",
       "        vertical-align: middle;\n",
       "    }\n",
       "\n",
       "    .dataframe tbody tr th {\n",
       "        vertical-align: top;\n",
       "    }\n",
       "\n",
       "    .dataframe thead th {\n",
       "        text-align: right;\n",
       "    }\n",
       "</style>\n",
       "<table border=\"1\" class=\"dataframe\">\n",
       "  <thead>\n",
       "    <tr style=\"text-align: right;\">\n",
       "      <th></th>\n",
       "      <th>day</th>\n",
       "      <th>month</th>\n",
       "      <th>year</th>\n",
       "      <th>Temperature</th>\n",
       "      <th>RH</th>\n",
       "      <th>Ws</th>\n",
       "      <th>Rain</th>\n",
       "      <th>FFMC</th>\n",
       "      <th>DMC</th>\n",
       "      <th>DC</th>\n",
       "      <th>ISI</th>\n",
       "      <th>BUI</th>\n",
       "      <th>FWI</th>\n",
       "      <th>Classes</th>\n",
       "      <th>Region</th>\n",
       "    </tr>\n",
       "  </thead>\n",
       "  <tbody>\n",
       "    <tr>\n",
       "      <th>0</th>\n",
       "      <td>1</td>\n",
       "      <td>6</td>\n",
       "      <td>2012</td>\n",
       "      <td>29</td>\n",
       "      <td>57</td>\n",
       "      <td>18</td>\n",
       "      <td>0.0</td>\n",
       "      <td>65.7</td>\n",
       "      <td>3.4</td>\n",
       "      <td>7.6</td>\n",
       "      <td>1.3</td>\n",
       "      <td>3.4</td>\n",
       "      <td>0.5</td>\n",
       "      <td>0</td>\n",
       "      <td>0</td>\n",
       "    </tr>\n",
       "    <tr>\n",
       "      <th>1</th>\n",
       "      <td>2</td>\n",
       "      <td>6</td>\n",
       "      <td>2012</td>\n",
       "      <td>29</td>\n",
       "      <td>61</td>\n",
       "      <td>13</td>\n",
       "      <td>1.3</td>\n",
       "      <td>64.4</td>\n",
       "      <td>4.1</td>\n",
       "      <td>7.6</td>\n",
       "      <td>1.0</td>\n",
       "      <td>3.9</td>\n",
       "      <td>0.4</td>\n",
       "      <td>0</td>\n",
       "      <td>0</td>\n",
       "    </tr>\n",
       "    <tr>\n",
       "      <th>2</th>\n",
       "      <td>3</td>\n",
       "      <td>6</td>\n",
       "      <td>2012</td>\n",
       "      <td>26</td>\n",
       "      <td>82</td>\n",
       "      <td>22</td>\n",
       "      <td>13.1</td>\n",
       "      <td>47.1</td>\n",
       "      <td>2.5</td>\n",
       "      <td>7.1</td>\n",
       "      <td>0.3</td>\n",
       "      <td>2.7</td>\n",
       "      <td>0.1</td>\n",
       "      <td>0</td>\n",
       "      <td>0</td>\n",
       "    </tr>\n",
       "    <tr>\n",
       "      <th>3</th>\n",
       "      <td>4</td>\n",
       "      <td>6</td>\n",
       "      <td>2012</td>\n",
       "      <td>25</td>\n",
       "      <td>89</td>\n",
       "      <td>13</td>\n",
       "      <td>2.5</td>\n",
       "      <td>28.6</td>\n",
       "      <td>1.3</td>\n",
       "      <td>6.9</td>\n",
       "      <td>0.0</td>\n",
       "      <td>1.7</td>\n",
       "      <td>0.0</td>\n",
       "      <td>0</td>\n",
       "      <td>0</td>\n",
       "    </tr>\n",
       "    <tr>\n",
       "      <th>4</th>\n",
       "      <td>5</td>\n",
       "      <td>6</td>\n",
       "      <td>2012</td>\n",
       "      <td>27</td>\n",
       "      <td>77</td>\n",
       "      <td>16</td>\n",
       "      <td>0.0</td>\n",
       "      <td>64.8</td>\n",
       "      <td>3.0</td>\n",
       "      <td>14.2</td>\n",
       "      <td>1.2</td>\n",
       "      <td>3.9</td>\n",
       "      <td>0.5</td>\n",
       "      <td>0</td>\n",
       "      <td>0</td>\n",
       "    </tr>\n",
       "  </tbody>\n",
       "</table>\n",
       "</div>"
      ],
      "text/plain": [
       "   day  month  year  Temperature  RH  Ws  Rain  FFMC  DMC    DC  ISI  BUI  \\\n",
       "0    1      6  2012           29  57  18   0.0  65.7  3.4   7.6  1.3  3.4   \n",
       "1    2      6  2012           29  61  13   1.3  64.4  4.1   7.6  1.0  3.9   \n",
       "2    3      6  2012           26  82  22  13.1  47.1  2.5   7.1  0.3  2.7   \n",
       "3    4      6  2012           25  89  13   2.5  28.6  1.3   6.9  0.0  1.7   \n",
       "4    5      6  2012           27  77  16   0.0  64.8  3.0  14.2  1.2  3.9   \n",
       "\n",
       "   FWI  Classes Region  \n",
       "0  0.5        0      0  \n",
       "1  0.4        0      0  \n",
       "2  0.1        0      0  \n",
       "3  0.0        0      0  \n",
       "4  0.5        0      0  "
      ]
     },
     "execution_count": 41,
     "metadata": {},
     "output_type": "execute_result"
    }
   ],
   "source": [
    "df.head()"
   ]
  },
  {
   "cell_type": "code",
   "execution_count": 42,
   "id": "ce4ef6d4",
   "metadata": {},
   "outputs": [],
   "source": [
    "#Droping features 'day','month','year'] beacuse it is not important for analysis \n",
    "df.drop(['day','month','year'], axis=1, inplace=True)"
   ]
  },
  {
   "cell_type": "code",
   "execution_count": 43,
   "id": "87fe2bc7",
   "metadata": {},
   "outputs": [
    {
     "data": {
      "text/html": [
       "<div>\n",
       "<style scoped>\n",
       "    .dataframe tbody tr th:only-of-type {\n",
       "        vertical-align: middle;\n",
       "    }\n",
       "\n",
       "    .dataframe tbody tr th {\n",
       "        vertical-align: top;\n",
       "    }\n",
       "\n",
       "    .dataframe thead th {\n",
       "        text-align: right;\n",
       "    }\n",
       "</style>\n",
       "<table border=\"1\" class=\"dataframe\">\n",
       "  <thead>\n",
       "    <tr style=\"text-align: right;\">\n",
       "      <th></th>\n",
       "      <th>Temperature</th>\n",
       "      <th>RH</th>\n",
       "      <th>Ws</th>\n",
       "      <th>Rain</th>\n",
       "      <th>FFMC</th>\n",
       "      <th>DMC</th>\n",
       "      <th>DC</th>\n",
       "      <th>ISI</th>\n",
       "      <th>BUI</th>\n",
       "      <th>FWI</th>\n",
       "      <th>Classes</th>\n",
       "      <th>Region</th>\n",
       "    </tr>\n",
       "  </thead>\n",
       "  <tbody>\n",
       "    <tr>\n",
       "      <th>0</th>\n",
       "      <td>29</td>\n",
       "      <td>57</td>\n",
       "      <td>18</td>\n",
       "      <td>0.0</td>\n",
       "      <td>65.7</td>\n",
       "      <td>3.4</td>\n",
       "      <td>7.6</td>\n",
       "      <td>1.3</td>\n",
       "      <td>3.4</td>\n",
       "      <td>0.5</td>\n",
       "      <td>0</td>\n",
       "      <td>0</td>\n",
       "    </tr>\n",
       "    <tr>\n",
       "      <th>1</th>\n",
       "      <td>29</td>\n",
       "      <td>61</td>\n",
       "      <td>13</td>\n",
       "      <td>1.3</td>\n",
       "      <td>64.4</td>\n",
       "      <td>4.1</td>\n",
       "      <td>7.6</td>\n",
       "      <td>1.0</td>\n",
       "      <td>3.9</td>\n",
       "      <td>0.4</td>\n",
       "      <td>0</td>\n",
       "      <td>0</td>\n",
       "    </tr>\n",
       "    <tr>\n",
       "      <th>2</th>\n",
       "      <td>26</td>\n",
       "      <td>82</td>\n",
       "      <td>22</td>\n",
       "      <td>13.1</td>\n",
       "      <td>47.1</td>\n",
       "      <td>2.5</td>\n",
       "      <td>7.1</td>\n",
       "      <td>0.3</td>\n",
       "      <td>2.7</td>\n",
       "      <td>0.1</td>\n",
       "      <td>0</td>\n",
       "      <td>0</td>\n",
       "    </tr>\n",
       "    <tr>\n",
       "      <th>3</th>\n",
       "      <td>25</td>\n",
       "      <td>89</td>\n",
       "      <td>13</td>\n",
       "      <td>2.5</td>\n",
       "      <td>28.6</td>\n",
       "      <td>1.3</td>\n",
       "      <td>6.9</td>\n",
       "      <td>0.0</td>\n",
       "      <td>1.7</td>\n",
       "      <td>0.0</td>\n",
       "      <td>0</td>\n",
       "      <td>0</td>\n",
       "    </tr>\n",
       "    <tr>\n",
       "      <th>4</th>\n",
       "      <td>27</td>\n",
       "      <td>77</td>\n",
       "      <td>16</td>\n",
       "      <td>0.0</td>\n",
       "      <td>64.8</td>\n",
       "      <td>3.0</td>\n",
       "      <td>14.2</td>\n",
       "      <td>1.2</td>\n",
       "      <td>3.9</td>\n",
       "      <td>0.5</td>\n",
       "      <td>0</td>\n",
       "      <td>0</td>\n",
       "    </tr>\n",
       "  </tbody>\n",
       "</table>\n",
       "</div>"
      ],
      "text/plain": [
       "   Temperature  RH  Ws  Rain  FFMC  DMC    DC  ISI  BUI  FWI  Classes Region\n",
       "0           29  57  18   0.0  65.7  3.4   7.6  1.3  3.4  0.5        0      0\n",
       "1           29  61  13   1.3  64.4  4.1   7.6  1.0  3.9  0.4        0      0\n",
       "2           26  82  22  13.1  47.1  2.5   7.1  0.3  2.7  0.1        0      0\n",
       "3           25  89  13   2.5  28.6  1.3   6.9  0.0  1.7  0.0        0      0\n",
       "4           27  77  16   0.0  64.8  3.0  14.2  1.2  3.9  0.5        0      0"
      ]
     },
     "execution_count": 43,
     "metadata": {},
     "output_type": "execute_result"
    }
   ],
   "source": [
    "df.head()"
   ]
  },
  {
   "cell_type": "code",
   "execution_count": 44,
   "id": "1b81464b",
   "metadata": {},
   "outputs": [],
   "source": [
    "#Independent and Dependent Features\n",
    "\n",
    "X= df[['RH', 'Ws', 'Rain', 'FFMC', 'DMC', 'DC', 'ISI', 'BUI', 'FWI']]\n",
    "y= df['Temperature']"
   ]
  },
  {
   "cell_type": "code",
   "execution_count": 45,
   "id": "4bad14e5",
   "metadata": {},
   "outputs": [
    {
     "data": {
      "text/html": [
       "<div>\n",
       "<style scoped>\n",
       "    .dataframe tbody tr th:only-of-type {\n",
       "        vertical-align: middle;\n",
       "    }\n",
       "\n",
       "    .dataframe tbody tr th {\n",
       "        vertical-align: top;\n",
       "    }\n",
       "\n",
       "    .dataframe thead th {\n",
       "        text-align: right;\n",
       "    }\n",
       "</style>\n",
       "<table border=\"1\" class=\"dataframe\">\n",
       "  <thead>\n",
       "    <tr style=\"text-align: right;\">\n",
       "      <th></th>\n",
       "      <th>RH</th>\n",
       "      <th>Ws</th>\n",
       "      <th>Rain</th>\n",
       "      <th>FFMC</th>\n",
       "      <th>DMC</th>\n",
       "      <th>DC</th>\n",
       "      <th>ISI</th>\n",
       "      <th>BUI</th>\n",
       "      <th>FWI</th>\n",
       "    </tr>\n",
       "  </thead>\n",
       "  <tbody>\n",
       "    <tr>\n",
       "      <th>0</th>\n",
       "      <td>57</td>\n",
       "      <td>18</td>\n",
       "      <td>0.0</td>\n",
       "      <td>65.7</td>\n",
       "      <td>3.4</td>\n",
       "      <td>7.6</td>\n",
       "      <td>1.3</td>\n",
       "      <td>3.4</td>\n",
       "      <td>0.5</td>\n",
       "    </tr>\n",
       "    <tr>\n",
       "      <th>1</th>\n",
       "      <td>61</td>\n",
       "      <td>13</td>\n",
       "      <td>1.3</td>\n",
       "      <td>64.4</td>\n",
       "      <td>4.1</td>\n",
       "      <td>7.6</td>\n",
       "      <td>1.0</td>\n",
       "      <td>3.9</td>\n",
       "      <td>0.4</td>\n",
       "    </tr>\n",
       "    <tr>\n",
       "      <th>2</th>\n",
       "      <td>82</td>\n",
       "      <td>22</td>\n",
       "      <td>13.1</td>\n",
       "      <td>47.1</td>\n",
       "      <td>2.5</td>\n",
       "      <td>7.1</td>\n",
       "      <td>0.3</td>\n",
       "      <td>2.7</td>\n",
       "      <td>0.1</td>\n",
       "    </tr>\n",
       "    <tr>\n",
       "      <th>3</th>\n",
       "      <td>89</td>\n",
       "      <td>13</td>\n",
       "      <td>2.5</td>\n",
       "      <td>28.6</td>\n",
       "      <td>1.3</td>\n",
       "      <td>6.9</td>\n",
       "      <td>0.0</td>\n",
       "      <td>1.7</td>\n",
       "      <td>0.0</td>\n",
       "    </tr>\n",
       "    <tr>\n",
       "      <th>4</th>\n",
       "      <td>77</td>\n",
       "      <td>16</td>\n",
       "      <td>0.0</td>\n",
       "      <td>64.8</td>\n",
       "      <td>3.0</td>\n",
       "      <td>14.2</td>\n",
       "      <td>1.2</td>\n",
       "      <td>3.9</td>\n",
       "      <td>0.5</td>\n",
       "    </tr>\n",
       "  </tbody>\n",
       "</table>\n",
       "</div>"
      ],
      "text/plain": [
       "   RH  Ws  Rain  FFMC  DMC    DC  ISI  BUI  FWI\n",
       "0  57  18   0.0  65.7  3.4   7.6  1.3  3.4  0.5\n",
       "1  61  13   1.3  64.4  4.1   7.6  1.0  3.9  0.4\n",
       "2  82  22  13.1  47.1  2.5   7.1  0.3  2.7  0.1\n",
       "3  89  13   2.5  28.6  1.3   6.9  0.0  1.7  0.0\n",
       "4  77  16   0.0  64.8  3.0  14.2  1.2  3.9  0.5"
      ]
     },
     "execution_count": 45,
     "metadata": {},
     "output_type": "execute_result"
    }
   ],
   "source": [
    "X.head()"
   ]
  },
  {
   "cell_type": "code",
   "execution_count": 46,
   "id": "8d4f67fa",
   "metadata": {},
   "outputs": [
    {
     "data": {
      "text/plain": [
       "0    29\n",
       "1    29\n",
       "2    26\n",
       "3    25\n",
       "4    27\n",
       "Name: Temperature, dtype: int32"
      ]
     },
     "execution_count": 46,
     "metadata": {},
     "output_type": "execute_result"
    }
   ],
   "source": [
    "y.head()"
   ]
  },
  {
   "cell_type": "code",
   "execution_count": 47,
   "id": "7ba26703",
   "metadata": {},
   "outputs": [],
   "source": [
    "# Splitting train and test data\n",
    "from sklearn.model_selection import train_test_split\n",
    "\n",
    "X_train,X_test,y_train,y_test = train_test_split(X, y, test_size=0.33, random_state=42)"
   ]
  },
  {
   "cell_type": "code",
   "execution_count": 48,
   "id": "41e9e61e",
   "metadata": {},
   "outputs": [
    {
     "data": {
      "text/html": [
       "<div>\n",
       "<style scoped>\n",
       "    .dataframe tbody tr th:only-of-type {\n",
       "        vertical-align: middle;\n",
       "    }\n",
       "\n",
       "    .dataframe tbody tr th {\n",
       "        vertical-align: top;\n",
       "    }\n",
       "\n",
       "    .dataframe thead th {\n",
       "        text-align: right;\n",
       "    }\n",
       "</style>\n",
       "<table border=\"1\" class=\"dataframe\">\n",
       "  <thead>\n",
       "    <tr style=\"text-align: right;\">\n",
       "      <th></th>\n",
       "      <th>RH</th>\n",
       "      <th>Ws</th>\n",
       "      <th>Rain</th>\n",
       "      <th>FFMC</th>\n",
       "      <th>DMC</th>\n",
       "      <th>DC</th>\n",
       "      <th>ISI</th>\n",
       "      <th>BUI</th>\n",
       "      <th>FWI</th>\n",
       "    </tr>\n",
       "  </thead>\n",
       "  <tbody>\n",
       "    <tr>\n",
       "      <th>114</th>\n",
       "      <td>54</td>\n",
       "      <td>11</td>\n",
       "      <td>0.5</td>\n",
       "      <td>73.7</td>\n",
       "      <td>7.9</td>\n",
       "      <td>30.4</td>\n",
       "      <td>1.2</td>\n",
       "      <td>9.6</td>\n",
       "      <td>0.7</td>\n",
       "    </tr>\n",
       "    <tr>\n",
       "      <th>65</th>\n",
       "      <td>65</td>\n",
       "      <td>13</td>\n",
       "      <td>0.0</td>\n",
       "      <td>86.8</td>\n",
       "      <td>11.1</td>\n",
       "      <td>29.7</td>\n",
       "      <td>5.2</td>\n",
       "      <td>11.5</td>\n",
       "      <td>6.1</td>\n",
       "    </tr>\n",
       "    <tr>\n",
       "      <th>135</th>\n",
       "      <td>42</td>\n",
       "      <td>21</td>\n",
       "      <td>0.0</td>\n",
       "      <td>90.6</td>\n",
       "      <td>18.2</td>\n",
       "      <td>30.5</td>\n",
       "      <td>13.4</td>\n",
       "      <td>18.0</td>\n",
       "      <td>16.7</td>\n",
       "    </tr>\n",
       "    <tr>\n",
       "      <th>210</th>\n",
       "      <td>40</td>\n",
       "      <td>18</td>\n",
       "      <td>0.0</td>\n",
       "      <td>92.1</td>\n",
       "      <td>56.3</td>\n",
       "      <td>157.5</td>\n",
       "      <td>14.3</td>\n",
       "      <td>59.5</td>\n",
       "      <td>31.1</td>\n",
       "    </tr>\n",
       "    <tr>\n",
       "      <th>165</th>\n",
       "      <td>56</td>\n",
       "      <td>15</td>\n",
       "      <td>2.9</td>\n",
       "      <td>74.8</td>\n",
       "      <td>7.1</td>\n",
       "      <td>9.5</td>\n",
       "      <td>1.6</td>\n",
       "      <td>6.8</td>\n",
       "      <td>0.8</td>\n",
       "    </tr>\n",
       "    <tr>\n",
       "      <th>...</th>\n",
       "      <td>...</td>\n",
       "      <td>...</td>\n",
       "      <td>...</td>\n",
       "      <td>...</td>\n",
       "      <td>...</td>\n",
       "      <td>...</td>\n",
       "      <td>...</td>\n",
       "      <td>...</td>\n",
       "      <td>...</td>\n",
       "    </tr>\n",
       "    <tr>\n",
       "      <th>106</th>\n",
       "      <td>82</td>\n",
       "      <td>15</td>\n",
       "      <td>0.4</td>\n",
       "      <td>44.9</td>\n",
       "      <td>0.9</td>\n",
       "      <td>7.3</td>\n",
       "      <td>0.2</td>\n",
       "      <td>1.4</td>\n",
       "      <td>0.0</td>\n",
       "    </tr>\n",
       "    <tr>\n",
       "      <th>14</th>\n",
       "      <td>80</td>\n",
       "      <td>17</td>\n",
       "      <td>3.1</td>\n",
       "      <td>49.4</td>\n",
       "      <td>3.0</td>\n",
       "      <td>7.4</td>\n",
       "      <td>0.4</td>\n",
       "      <td>3.0</td>\n",
       "      <td>0.1</td>\n",
       "    </tr>\n",
       "    <tr>\n",
       "      <th>92</th>\n",
       "      <td>76</td>\n",
       "      <td>17</td>\n",
       "      <td>7.2</td>\n",
       "      <td>46.0</td>\n",
       "      <td>1.3</td>\n",
       "      <td>7.5</td>\n",
       "      <td>0.2</td>\n",
       "      <td>1.8</td>\n",
       "      <td>0.1</td>\n",
       "    </tr>\n",
       "    <tr>\n",
       "      <th>182</th>\n",
       "      <td>57</td>\n",
       "      <td>16</td>\n",
       "      <td>0.0</td>\n",
       "      <td>87.5</td>\n",
       "      <td>15.7</td>\n",
       "      <td>37.6</td>\n",
       "      <td>6.7</td>\n",
       "      <td>15.7</td>\n",
       "      <td>9.0</td>\n",
       "    </tr>\n",
       "    <tr>\n",
       "      <th>102</th>\n",
       "      <td>77</td>\n",
       "      <td>21</td>\n",
       "      <td>1.8</td>\n",
       "      <td>58.5</td>\n",
       "      <td>1.9</td>\n",
       "      <td>8.4</td>\n",
       "      <td>1.1</td>\n",
       "      <td>2.4</td>\n",
       "      <td>0.3</td>\n",
       "    </tr>\n",
       "  </tbody>\n",
       "</table>\n",
       "<p>163 rows × 9 columns</p>\n",
       "</div>"
      ],
      "text/plain": [
       "     RH  Ws  Rain  FFMC   DMC     DC   ISI   BUI   FWI\n",
       "114  54  11   0.5  73.7   7.9   30.4   1.2   9.6   0.7\n",
       "65   65  13   0.0  86.8  11.1   29.7   5.2  11.5   6.1\n",
       "135  42  21   0.0  90.6  18.2   30.5  13.4  18.0  16.7\n",
       "210  40  18   0.0  92.1  56.3  157.5  14.3  59.5  31.1\n",
       "165  56  15   2.9  74.8   7.1    9.5   1.6   6.8   0.8\n",
       "..   ..  ..   ...   ...   ...    ...   ...   ...   ...\n",
       "106  82  15   0.4  44.9   0.9    7.3   0.2   1.4   0.0\n",
       "14   80  17   3.1  49.4   3.0    7.4   0.4   3.0   0.1\n",
       "92   76  17   7.2  46.0   1.3    7.5   0.2   1.8   0.1\n",
       "182  57  16   0.0  87.5  15.7   37.6   6.7  15.7   9.0\n",
       "102  77  21   1.8  58.5   1.9    8.4   1.1   2.4   0.3\n",
       "\n",
       "[163 rows x 9 columns]"
      ]
     },
     "execution_count": 48,
     "metadata": {},
     "output_type": "execute_result"
    }
   ],
   "source": [
    "X_train"
   ]
  },
  {
   "cell_type": "code",
   "execution_count": 49,
   "id": "1b5241ae",
   "metadata": {},
   "outputs": [
    {
     "data": {
      "text/plain": [
       "114    32\n",
       "65     34\n",
       "135    31\n",
       "210    34\n",
       "165    34\n",
       "       ..\n",
       "106    24\n",
       "14     28\n",
       "92     25\n",
       "182    33\n",
       "102    30\n",
       "Name: Temperature, Length: 163, dtype: int32"
      ]
     },
     "execution_count": 49,
     "metadata": {},
     "output_type": "execute_result"
    }
   ],
   "source": [
    "y_train"
   ]
  },
  {
   "cell_type": "code",
   "execution_count": 50,
   "id": "0c513645",
   "metadata": {},
   "outputs": [],
   "source": [
    "# Standardize or Feature scaling \n",
    "\n",
    "from sklearn.preprocessing import StandardScaler\n",
    "\n",
    "scaler= StandardScaler()"
   ]
  },
  {
   "cell_type": "code",
   "execution_count": 51,
   "id": "08040d6b",
   "metadata": {},
   "outputs": [
    {
     "data": {
      "text/plain": [
       "StandardScaler()"
      ]
     },
     "execution_count": 51,
     "metadata": {},
     "output_type": "execute_result"
    }
   ],
   "source": [
    "scaler"
   ]
  },
  {
   "cell_type": "code",
   "execution_count": 52,
   "id": "1d602c5b",
   "metadata": {},
   "outputs": [],
   "source": [
    "X_train= scaler.fit_transform(X_train)"
   ]
  },
  {
   "cell_type": "code",
   "execution_count": 53,
   "id": "d6f14891",
   "metadata": {},
   "outputs": [],
   "source": [
    "X_test=scaler.transform(X_test)"
   ]
  },
  {
   "cell_type": "code",
   "execution_count": 54,
   "id": "b48c2c40",
   "metadata": {},
   "outputs": [
    {
     "data": {
      "text/plain": [
       "array([[-0.60257784, -1.68484146, -0.17054229, ..., -0.80014076,\n",
       "        -0.47763563, -0.8196431 ],\n",
       "       [ 0.14460201, -0.93856657, -0.39436188, ...,  0.16132584,\n",
       "        -0.3471914 , -0.08219052],\n",
       "       [-1.41768313,  2.04653297, -0.39436188, ...,  2.13233237,\n",
       "         0.09906517,  1.36540157],\n",
       "       ...,\n",
       "       [ 0.89178186,  0.5539832 ,  2.82864022, ..., -1.04050741,\n",
       "        -1.01314351, -0.90158227],\n",
       "       [-0.39880152,  0.18084575, -0.39436188, ...,  0.52187581,\n",
       "        -0.058841  ,  0.31384882],\n",
       "       [ 0.9597073 ,  2.04653297,  0.41138865, ..., -0.82417743,\n",
       "        -0.9719506 , -0.87426921]])"
      ]
     },
     "execution_count": 54,
     "metadata": {},
     "output_type": "execute_result"
    }
   ],
   "source": [
    "X_train"
   ]
  },
  {
   "cell_type": "code",
   "execution_count": 55,
   "id": "90a9aed7",
   "metadata": {},
   "outputs": [
    {
     "data": {
      "text/plain": [
       "array([[ 7.66765714e-02, -1.92291688e-01, -3.94361879e-01,\n",
       "         6.76854493e-01, -3.05224430e-02,  3.01184828e-01,\n",
       "         2.81509163e-01,  1.19661624e-01,  2.31909648e-01],\n",
       "       [-6.02577838e-01, -9.38566574e-01, -3.94361879e-01,\n",
       "         7.79312965e-01, -3.70096733e-01, -3.74297004e-01,\n",
       "         4.49765818e-01, -3.88384315e-01,  6.80312985e-02],\n",
       "       [-1.01013048e+00,  1.80845755e-01, -3.94361879e-01,\n",
       "         7.38329576e-01, -5.28038264e-01, -6.31913198e-01,\n",
       "         5.45912478e-01, -6.01214370e-01, -4.12209346e-02],\n",
       "       [-6.70503279e-01,  5.53983197e-01, -1.70542289e-01,\n",
       "         2.32867782e-01,  4.82787531e-01,  2.03350160e+00,\n",
       "        -4.39590788e-01,  9.64116361e-01, -1.09503580e-01],\n",
       "       [-1.48560857e+00, -2.05797890e+00, -3.49597961e-01,\n",
       "         1.03887443e+00,  6.32831985e-01,  3.27554990e-01,\n",
       "         1.19490243e+00,  5.24725278e-01,  1.10592751e+00],\n",
       "       [ 7.66765714e-02, -2.43111635e+00,  1.42805137e-01,\n",
       "        -2.04288364e-01, -2.27949356e-01, -6.70454203e-01,\n",
       "        -8.24177428e-01, -3.54056886e-01, -8.19643095e-01],\n",
       "       [-1.62145945e+00, -1.92291688e-01, -3.04834043e-01,\n",
       "         8.54449178e-01,  9.58307813e-02, -2.74901779e-01,\n",
       "         8.82425788e-01, -5.19755172e-02,  5.46009818e-01],\n",
       "       [ 1.16348363e+00, -5.65429131e-01,  5.00916482e-01,\n",
       "        -1.91876013e+00, -9.78171625e-01, -8.38817542e-01,\n",
       "        -1.01647075e+00, -9.58219625e-01, -9.01582270e-01],\n",
       "       [ 1.09555819e+00, -1.31170402e+00, -3.94361879e-01,\n",
       "        -2.45271753e-01, -4.01685039e-01, -5.37981164e-02,\n",
       "        -7.76104098e-01, -2.71671058e-01, -7.92330037e-01],\n",
       "       [ 6.88005540e-01, -1.31170402e+00,  4.11388646e-01,\n",
       "        -1.15373687e+00, -9.78171625e-01, -8.12447381e-01,\n",
       "        -9.20324088e-01, -9.51354139e-01, -8.74269212e-01],\n",
       "       [ 8.91781863e-01,  2.04653297e+00, -3.94361879e-01,\n",
       "        -2.86255141e-01, -5.99111952e-01, -4.75720702e-01,\n",
       "        -9.20324088e-01, -5.66886942e-01, -8.60612683e-01],\n",
       "       [-3.30876074e-01, -9.38566574e-01, -3.04834043e-01,\n",
       "         1.85053829e-01,  3.24846000e-01,  7.92075529e-01,\n",
       "        -5.83810778e-01,  5.38456250e-01, -3.96290692e-01],\n",
       "       [-6.02577838e-01, -1.68484146e+00, -3.94361879e-01,\n",
       "         3.55817948e-01, -6.78082718e-01, -6.62340307e-01,\n",
       "        -4.87664118e-01, -7.11062141e-01, -6.83077804e-01],\n",
       "       [-3.30876074e-01, -2.05797890e+00, -3.04834043e-01,\n",
       "         1.03087051e-01, -2.99023045e-01, -5.93372192e-01,\n",
       "        -7.03994103e-01, -4.02115286e-01, -7.78673508e-01],\n",
       "       [-5.34652397e-01,  9.27120640e-01, -3.94361879e-01,\n",
       "         8.40788048e-01,  1.49361333e+00,  2.07609955e+00,\n",
       "         1.29104909e+00,  1.82230207e+00,  1.87069314e+00],\n",
       "       [ 4.84229217e-01,  1.80845755e-01, -3.94361879e-01,\n",
       "         6.29040540e-01, -1.41081514e-01, -4.73692228e-01,\n",
       "         2.09399168e-01, -2.64805573e-01, -2.51347162e-04],\n",
       "       [-1.75731033e+00, -5.65429131e-01, -3.94361879e-01,\n",
       "         1.19597742e+00,  1.68314316e+00,  7.67733841e-01,\n",
       "         2.75728566e+00,  1.32798710e+00,  2.67642836e+00],\n",
       "       [ 1.77481259e+00, -9.38566574e-01, -8.10144529e-02,\n",
       "        -2.77941129e+00, -1.01765701e+00, -8.38817542e-01,\n",
       "        -1.08858074e+00, -9.85681567e-01, -9.15238799e-01],\n",
       "       [ 8.23856422e-01, -5.65429131e-01, -3.94361879e-01,\n",
       "         6.56362799e-01, -1.25287361e-01, -1.99848242e-01,\n",
       "         1.61325838e-01, -1.61823288e-01,  1.34051820e-02],\n",
       "       [-5.34652397e-01, -5.65429131e-01, -3.94361879e-01,\n",
       "         6.42701669e-01, -4.96449958e-01, -6.19742354e-01,\n",
       "         1.13252508e-01, -5.73752428e-01, -2.46068872e-01],\n",
       "       [ 1.02763274e+00,  5.53983197e-01, -3.94361879e-01,\n",
       "         2.26037218e-01, -7.88641789e-01, -6.17713880e-01,\n",
       "        -4.39590788e-01, -7.45389569e-01, -6.83077804e-01],\n",
       "       [ 1.16348363e+00,  1.80845755e-01, -2.15306207e-01,\n",
       "        -1.16056743e+00, -8.83406707e-01, -4.43265118e-01,\n",
       "        -8.72250758e-01, -7.86582483e-01, -8.60612683e-01],\n",
       "       [-9.42205043e-01, -1.68484146e+00, -3.94361879e-01,\n",
       "         8.61279743e-01, -3.77993810e-01, -3.21556680e-01,\n",
       "         5.45912478e-01, -3.60922372e-01,  1.36313944e-01],\n",
       "       [ 3.48378335e-01,  1.30025808e+00,  5.32773012e-02,\n",
       "        -1.15373687e+00, -9.54480396e-01, -8.18532803e-01,\n",
       "        -8.24177428e-01, -9.37623168e-01, -8.60612683e-01],\n",
       "       [-1.89316122e+00, -1.92291688e-01, -3.94361879e-01,\n",
       "         1.16182459e+00,  6.64420291e-01, -1.26823179e-01,\n",
       "         2.68517566e+00,  4.35473965e-01,  1.93897579e+00],\n",
       "       [ 1.16348363e+00,  1.80845755e-01,  4.11388646e-01,\n",
       "        -2.00755747e+00, -9.22892090e-01, -8.36789069e-01,\n",
       "        -1.01647075e+00, -9.30757682e-01, -9.01582270e-01],\n",
       "       [ 1.44602012e-01, -5.65429131e-01, -3.94361879e-01,\n",
       "         5.26582068e-01, -1.64772744e-01,  1.08479801e-01,\n",
       "        -1.27114143e-01, -5.19755172e-02, -1.50473168e-01],\n",
       "       [ 8.75113043e-03, -1.92291688e-01, -3.94361879e-01,\n",
       "         6.97346188e-01,  3.48537230e-01,  7.33249784e-01,\n",
       "         3.29582493e-01,  5.38456250e-01,  4.77727173e-01],\n",
       "       [-1.07805592e+00,  9.27120640e-01,  2.29147320e+00,\n",
       "         2.73851171e-01, -3.77993810e-01, -7.96219589e-01,\n",
       "        -3.43444128e-01, -4.91366600e-01, -5.05542925e-01],\n",
       "       [-1.21390681e+00,  9.27120640e-01, -3.94361879e-01,\n",
       "         9.36415955e-01,  3.24846000e-01, -5.17696424e-02,\n",
       "         1.62756240e+00,  1.47123567e-01,  1.13324057e+00],\n",
       "       [-5.34652397e-01, -1.68484146e+00, -3.94361879e-01,\n",
       "         7.51990706e-01,  1.51110317e-01,  1.81504864e-01,\n",
       "         2.09399168e-01,  1.81450995e-01,  2.18253119e-01],\n",
       "       [-3.30876074e-01, -1.31170402e+00,  1.44095876e+00,\n",
       "        -7.30241852e-01, -8.36024248e-01, -8.22589751e-01,\n",
       "        -8.48214093e-01, -8.68968311e-01, -8.60612683e-01],\n",
       "       [ 7.66765714e-02,  9.27120640e-01, -3.94361879e-01,\n",
       "         6.83685058e-01,  2.53772312e-01,  4.63462746e-01,\n",
       "         5.21875813e-01,  3.46222651e-01,  5.32353289e-01],\n",
       "       [ 7.66765714e-02,  5.53983197e-01, -3.94361879e-01,\n",
       "         7.11007317e-01,  1.36726010e+00,  1.96250501e+00,\n",
       "         5.45912478e-01,  1.69185784e+00,  1.22883628e+00],\n",
       "       [-5.34652397e-01,  1.80845755e-01, -3.49597961e-01,\n",
       "         2.12376088e-01, -7.96538865e-01, -6.68425729e-01,\n",
       "        -4.87664118e-01, -7.72851512e-01, -7.24047391e-01],\n",
       "       [-1.07805592e+00, -5.65429131e-01, -8.10144529e-02,\n",
       "         4.84425331e-02, -5.91214876e-01, -8.14475855e-01,\n",
       "        -6.55920773e-01, -6.69869227e-01, -7.92330037e-01],\n",
       "       [ 7.55930981e-01,  1.30025808e+00, -3.49597961e-01,\n",
       "        -6.76770683e-02, -8.67612554e-01, -3.39812946e-01,\n",
       "        -5.83810778e-01, -7.52255055e-01, -7.92330037e-01],\n",
       "       [-1.14598137e+00, -9.38566574e-01, -2.60070125e-01,\n",
       "         4.85598679e-01,  1.82698623e-01,  1.06451327e-01,\n",
       "        -2.47297468e-01,  1.67720024e-01, -1.64129697e-01],\n",
       "       [-5.91743105e-02, -2.05797890e+00,  3.50009899e+00,\n",
       "        -7.71225241e-01, -7.88641789e-01, -8.24618225e-01,\n",
       "        -8.72250758e-01, -8.34640883e-01, -8.60612683e-01],\n",
       "       [ 1.63896171e+00,  5.03163251e+00, -1.70542289e-01,\n",
       "        -2.11001594e+00, -8.75509630e-01, -8.32732121e-01,\n",
       "        -9.92434083e-01, -9.03295739e-01, -8.87925741e-01],\n",
       "       [-5.34652397e-01, -9.38566574e-01, -2.60070125e-01,\n",
       "         3.83140208e-01,  8.00366283e-02,  8.83356857e-01,\n",
       "        -1.99224138e-01,  3.73684594e-01, -5.48774637e-02],\n",
       "       [-6.02577838e-01, -1.68484146e+00, -3.49597961e-01,\n",
       "         4.71937550e-01, -4.88552881e-01, -4.59492910e-01,\n",
       "        -3.43444128e-01, -4.98232085e-01, -4.91886396e-01],\n",
       "       [-8.74279602e-01,  1.30025808e+00, -1.25778371e-01,\n",
       "         6.89342274e-02, -3.14817198e-01, -1.53193341e-01,\n",
       "        -5.11700783e-01, -2.51074601e-01, -5.32855984e-01],\n",
       "       [ 1.77481259e+00,  1.80845755e-01, -1.25778371e-01,\n",
       "        -2.69744451e+00, -1.06503947e+00, -8.34760595e-01,\n",
       "        -1.08858074e+00, -1.02687448e+00, -9.15238799e-01],\n",
       "       [-1.55353401e+00, -9.38566574e-01, -3.94361879e-01,\n",
       "         1.03204386e+00,  6.09140755e-01,  1.32821489e-01,\n",
       "         1.50737908e+00,  3.94281051e-01,  1.22883628e+00],\n",
       "       [ 4.16303776e-01,  1.80845755e-01, -3.94361879e-01,\n",
       "         6.63193364e-01,  7.21395518e-02, -7.14321508e-03,\n",
       "         2.33435833e-01,  4.41412821e-02,  1.77283532e-01],\n",
       "       [ 1.23140907e+00,  5.53983197e-01, -3.94361879e-01,\n",
       "         5.33412633e-01,  5.14375837e-01, -1.34937075e-01,\n",
       "         4.11425125e-02,  2.98164252e-01,  1.36313944e-01],\n",
       "       [ 3.48378335e-01, -5.65429131e-01,  2.32332973e-01,\n",
       "        -6.96089029e-01, -5.43832417e-01, -8.06361959e-01,\n",
       "        -8.24177428e-01, -6.28676313e-01, -8.33299625e-01],\n",
       "       [-1.96108666e+00,  1.80845755e-01, -3.04834043e-01,\n",
       "         7.86143530e-01,  1.82698623e-01, -7.81398040e-02,\n",
       "         7.14169133e-01,  6.47377390e-02,  5.18696760e-01],\n",
       "       [-8.06354161e-01, -9.38566574e-01, -3.94361879e-01,\n",
       "         8.13465789e-01,  1.11624934e-01,  2.53123684e-02,\n",
       "         5.69949143e-01,  8.53341960e-02,  4.23101056e-01],\n",
       "       [-1.75731033e+00,  1.80845755e-01, -3.94361879e-01,\n",
       "         1.05253556e+00,  3.68900060e+00,  2.39862691e+00,\n",
       "         2.06022237e+00,  3.25718857e+00,  3.22268953e+00],\n",
       "       [ 8.23856422e-01,  1.80845755e-01, -3.94361879e-01,\n",
       "         2.73851171e-01, -8.83406707e-01, -5.06147812e-01,\n",
       "        -4.15554123e-01, -7.86582483e-01, -6.83077804e-01],\n",
       "       [ 1.36725995e+00,  5.53983197e-01, -3.94361879e-01,\n",
       "         5.26582068e-01,  3.80125536e-01, -3.21556680e-01,\n",
       "         4.11425125e-02,  1.81450995e-01,  8.16878277e-02],\n",
       "       [ 7.66765714e-02, -5.65429131e-01, -3.94361879e-01,\n",
       "         8.27126919e-01,  2.04640868e+00,  2.48179435e+00,\n",
       "         1.07471911e+00,  2.35780995e+00,  1.93897579e+00],\n",
       "       [-6.70503279e-01,  1.30025808e+00, -3.94361879e-01,\n",
       "         8.47618613e-01,  1.98492776e-01,  1.00709377e+00,\n",
       "         1.31508576e+00,  5.04128821e-01,  1.17421016e+00],\n",
       "       [ 1.02763274e+00,  9.27120640e-01, -3.94361879e-01,\n",
       "         6.15379410e-01,  2.44915958e+00,  2.87328982e+00,\n",
       "         4.11425125e-02,  2.78347006e+00,  9.55705693e-01],\n",
       "       [-2.30071386e+00,  9.27120640e-01, -3.94361879e-01,\n",
       "         1.16865516e+00,  1.97533499e+00,  6.41968455e-01,\n",
       "         3.35820228e+00,  1.57514458e+00,  3.18171994e+00],\n",
       "       [-6.02577838e-01,  9.27120640e-01, -3.49597961e-01,\n",
       "         1.98714958e-01, -8.12333018e-01, -6.84653521e-01,\n",
       "        -6.79957438e-01, -7.86582483e-01, -8.19643095e-01],\n",
       "       [-3.30876074e-01,  9.27120640e-01,  5.90444318e-01,\n",
       "        -8.94175407e-01, -8.99200860e-01, -8.20561277e-01,\n",
       "        -8.00140763e-01, -9.10161225e-01, -8.46956154e-01],\n",
       "       [-2.02901210e+00, -9.38566574e-01, -3.49597961e-01,\n",
       "         9.43246520e-01,  8.85538433e-01,  5.85171184e-01,\n",
       "         1.07471911e+00,  7.99344705e-01,  1.18786669e+00],\n",
       "       [-3.30876074e-01,  9.27120640e-01, -3.94361879e-01,\n",
       "         7.65651836e-01, -7.79049021e-02, -2.46503143e-01,\n",
       "         8.34352458e-01, -1.68688773e-01,  4.36757585e-01],\n",
       "       [ 1.44602012e-01,  1.30025808e+00, -1.25778371e-01,\n",
       "        -5.79969427e-01, -7.17568100e-01, -6.84653521e-01,\n",
       "        -7.28030768e-01, -7.38524083e-01, -8.19643095e-01],\n",
       "       [-4.66726956e-01,  1.80845755e-01, -3.94361879e-01,\n",
       "         8.27126919e-01,  7.27596903e-01,  1.65277072e-01,\n",
       "         8.82425788e-01,  4.97263336e-01,  8.87423047e-01],\n",
       "       [ 6.20080099e-01, -5.65429131e-01, -3.94361879e-01,\n",
       "         5.06090374e-01, -4.96449958e-01, -4.81806124e-01,\n",
       "        -1.75187473e-01, -5.11963057e-01, -3.82634163e-01],\n",
       "       [-1.95025192e-01,  9.27120640e-01, -2.60070125e-01,\n",
       "         2.11202739e-02, -2.59537662e-01, -3.95987986e-02,\n",
       "        -5.59774113e-01, -1.68688773e-01, -5.60169042e-01],\n",
       "       [ 1.57103627e+00,  2.04653297e+00,  1.66477835e+00,\n",
       "        -2.45154418e+00, -1.04924531e+00, -8.40846016e-01,\n",
       "        -1.06454408e+00, -1.01314351e+00, -9.15238799e-01],\n",
       "       [-2.62950633e-01,  5.53983197e-01, -3.94361879e-01,\n",
       "         7.24668447e-01,  1.68600161e-02,  1.63248598e-01,\n",
       "         5.69949143e-01,  9.21996817e-02,  4.36757585e-01],\n",
       "       [ 1.43518539e+00,  9.27120640e-01, -3.94361879e-01,\n",
       "         4.78768115e-01, -8.58019786e-02,  7.05610270e-03,\n",
       "        -6.93081752e-03, -3.82445459e-02, -5.48774637e-02],\n",
       "       [-1.68938489e+00, -1.92291688e-01, -3.94361879e-01,\n",
       "         1.04570499e+00,  2.89929295e+00,  2.00307449e+00,\n",
       "         1.84389239e+00,  2.63242938e+00,  2.75836754e+00],\n",
       "       [-1.75731033e+00,  9.27120640e-01, -3.04834043e-01,\n",
       "         8.27126919e-01, -1.33184438e-01, -6.96824365e-01,\n",
       "         1.91600238e+00, -4.22711743e-01, -2.32412343e-01],\n",
       "       [-4.66726956e-01,  5.53983197e-01, -3.49597961e-01,\n",
       "         5.40243198e-01, -3.85890886e-01, -4.39208171e-01,\n",
       "         4.11425125e-02, -4.29577229e-01, -2.05099284e-01],\n",
       "       [ 8.23856422e-01,  1.80845755e-01, -3.94361879e-01,\n",
       "         3.69479078e-01, -8.04435942e-01, -5.00062390e-01,\n",
       "        -2.95370798e-01, -7.24793112e-01, -5.73825571e-01],\n",
       "       [-5.91743105e-02,  1.30025808e+00, -3.94361879e-01,\n",
       "         8.61279743e-01,  6.80214444e-01,  1.45944346e+00,\n",
       "         1.24297576e+00,  1.01217476e+00,  1.43368421e+00],\n",
       "       [-8.74279602e-01, -5.65429131e-01, -3.94361879e-01,\n",
       "         8.13465789e-01,  6.56523214e-01,  8.89442279e-01,\n",
       "         6.42059138e-01,  8.06210191e-01,  8.46453459e-01],\n",
       "       [-1.96108666e+00,  5.53983197e-01, -3.94361879e-01,\n",
       "         1.05253556e+00,  7.11802750e-01,  9.80723608e-01,\n",
       "         2.22847903e+00,  8.81730533e-01,  2.03457149e+00],\n",
       "       [ 1.23140907e+00, -1.92291688e-01, -3.94361879e-01,\n",
       "         5.33412633e-01, -1.56875667e-01, -1.51164867e-01,\n",
       "        -5.50041475e-02, -1.54957802e-01, -1.36816639e-01],\n",
       "       [-2.62950633e-01,  1.80845755e-01, -3.94361879e-01,\n",
       "         7.72482400e-01,  3.88022612e-01, -3.55418507e-02,\n",
       "         6.90132468e-01,  2.02047452e-01,  5.73322877e-01],\n",
       "       [ 2.80452894e-01, -5.65429131e-01, -3.94361879e-01,\n",
       "         3.96801337e-01, -6.93876871e-01, -5.42660343e-01,\n",
       "        -3.43444128e-01, -6.56138256e-01, -5.73825571e-01],\n",
       "       [-1.01013048e+00, -9.38566574e-01, -3.94361879e-01,\n",
       "         9.22754826e-01,  6.01243679e-01,  1.20791269e+00,\n",
       "         1.00260911e+00,  8.81730533e-01,  1.17421016e+00],\n",
       "       [ 7.66765714e-02, -5.65429131e-01, -3.94361879e-01,\n",
       "         1.78223264e-01, -7.41259330e-01, -6.80596573e-01,\n",
       "        -5.59774113e-01, -7.52255055e-01, -7.78673508e-01],\n",
       "       [-5.34652397e-01, -1.92291688e-01, -3.94361879e-01,\n",
       "         8.40788048e-01,  4.98581684e-01, -1.14652335e-01,\n",
       "         8.34352458e-01,  2.91298766e-01,  7.23544697e-01]])"
      ]
     },
     "execution_count": 55,
     "metadata": {},
     "output_type": "execute_result"
    }
   ],
   "source": [
    "X_test"
   ]
  },
  {
   "cell_type": "markdown",
   "id": "0daf7065",
   "metadata": {},
   "source": [
    "# Model Training for Linear Regression"
   ]
  },
  {
   "cell_type": "code",
   "execution_count": 56,
   "id": "b604b598",
   "metadata": {},
   "outputs": [],
   "source": [
    "from sklearn.linear_model import LinearRegression\n",
    "\n",
    "regression=LinearRegression()"
   ]
  },
  {
   "cell_type": "code",
   "execution_count": 57,
   "id": "58e384b9",
   "metadata": {},
   "outputs": [
    {
     "data": {
      "text/plain": [
       "LinearRegression()"
      ]
     },
     "execution_count": 57,
     "metadata": {},
     "output_type": "execute_result"
    }
   ],
   "source": [
    "regression.fit(X_train,y_train)"
   ]
  },
  {
   "cell_type": "code",
   "execution_count": 58,
   "id": "5c870d4a",
   "metadata": {},
   "outputs": [
    {
     "name": "stdout",
     "output_type": "stream",
     "text": [
      "Coefficients are [-1.11905525 -0.45739521  0.09691421  1.67893862  1.07917612  0.72319354\n",
      "  0.11814242 -1.39324802 -0.05262333]\n",
      "Intercept is 31.98159509202454\n"
     ]
    }
   ],
   "source": [
    "#Printing the coefficients and intercepts\n",
    "\n",
    "print(\"Coefficients are\", regression.coef_)\n",
    "print(\"Intercept is\", regression.intercept_)"
   ]
  },
  {
   "cell_type": "code",
   "execution_count": 59,
   "id": "2f776884",
   "metadata": {},
   "outputs": [],
   "source": [
    "#Prediction for the test data\n",
    "\n",
    "reg_pred= regression.predict(X_test)\n"
   ]
  },
  {
   "cell_type": "code",
   "execution_count": 60,
   "id": "02b9bc5b",
   "metadata": {},
   "outputs": [
    {
     "data": {
      "text/plain": [
       "array([33.12113277, 34.27599153, 34.1081232 , 33.4551817 , 36.56742968,\n",
       "       32.38680838, 35.34162102, 27.3654293 , 30.76167063, 29.53403578,\n",
       "       29.26453111, 33.18737898, 33.74397562, 33.20293714, 34.15771284,\n",
       "       32.27376808, 36.88282294, 25.33846086, 32.34613028, 33.72112033,\n",
       "       30.64422533, 28.39171201, 35.13413644, 28.69736813, 36.33429667,\n",
       "       26.88918698, 32.89023041, 33.36234711, 33.13267513, 34.69072521,\n",
       "       34.6296513 , 31.52410657, 32.74168095, 33.33535668, 32.53412299,\n",
       "       33.19055268, 30.2321709 , 34.50328733, 31.69115187, 23.92788304,\n",
       "       33.8111882 , 34.00495789, 32.33564172, 24.96891784, 36.16141483,\n",
       "       32.53768689, 31.24732598, 30.35652666, 35.49132159, 34.70573285,\n",
       "       36.84582014, 31.16185778, 30.96947655, 34.24806396, 33.85580631,\n",
       "       32.20004503, 36.68678969, 32.21851926, 30.13805868, 36.56085853,\n",
       "       33.22333782, 29.95567173, 34.04112054, 32.18632508, 31.67567942,\n",
       "       24.92633321, 33.25306646, 30.68494645, 36.66003733, 35.06307991,\n",
       "       33.0037378 , 31.33439708, 33.31162289, 34.80593026, 36.05684966,\n",
       "       31.48685955, 33.61476731, 32.316884  , 35.40290519, 32.14618976,\n",
       "       34.1510535 ])"
      ]
     },
     "execution_count": 60,
     "metadata": {},
     "output_type": "execute_result"
    }
   ],
   "source": [
    "reg_pred"
   ]
  },
  {
   "cell_type": "code",
   "execution_count": 61,
   "id": "f1bf5152",
   "metadata": {},
   "outputs": [
    {
     "data": {
      "text/plain": [
       "Text(0, 0.5, 'Test Predicted Data')"
      ]
     },
     "execution_count": 61,
     "metadata": {},
     "output_type": "execute_result"
    },
    {
     "data": {
      "image/png": "[encoded data removed]",
      "text/plain": [
       "<Figure size 864x576 with 1 Axes>"
      ]
     },
     "metadata": {},
     "output_type": "display_data"
    }
   ],
   "source": [
    "# Assumption of Linear Regression\n",
    "\n",
    "plt.scatter(y_test, reg_pred)\n",
    "plt.xlabel(\"Test Truth Data\")\n",
    "plt.ylabel(\"Test Predicted Data\")"
   ]
  },
  {
   "cell_type": "code",
   "execution_count": 62,
   "id": "16e2a905",
   "metadata": {},
   "outputs": [],
   "source": [
    "# Residual\n",
    "\n",
    "residual = y_test- reg_pred"
   ]
  },
  {
   "cell_type": "code",
   "execution_count": 63,
   "id": "6e4bba29",
   "metadata": {},
   "outputs": [
    {
     "data": {
      "text/plain": [
       "<seaborn.axisgrid.FacetGrid at 0x195c2fbaac0>"
      ]
     },
     "execution_count": 63,
     "metadata": {},
     "output_type": "execute_result"
    },
    {
     "data": {
      "image/png": "[encoded data removed]",
      "text/plain": [
       "<Figure size 360x360 with 1 Axes>"
      ]
     },
     "metadata": {},
     "output_type": "display_data"
    }
   ],
   "source": [
    "sns.displot(residual, kind=\"kde\")"
   ]
  },
  {
   "cell_type": "code",
   "execution_count": 64,
   "id": "6ed06379",
   "metadata": {},
   "outputs": [
    {
     "data": {
      "text/plain": [
       "<matplotlib.collections.PathCollection at 0x195c3977490>"
      ]
     },
     "execution_count": 64,
     "metadata": {},
     "output_type": "execute_result"
    },
    {
     "data": {
      "image/png": "[encoded data removed]",
      "text/plain": [
       "<Figure size 864x576 with 1 Axes>"
      ]
     },
     "metadata": {},
     "output_type": "display_data"
    }
   ],
   "source": [
    "#Scatter plot Prediction and residual\n",
    "\n",
    "plt.scatter(reg_pred,residual)"
   ]
  },
  {
   "cell_type": "code",
   "execution_count": 65,
   "id": "bbd0bf22",
   "metadata": {},
   "outputs": [
    {
     "name": "stdout",
     "output_type": "stream",
     "text": [
      "MSE is 5.126398608590928\n",
      "MAE is 1.8124385016780171\n",
      "RMSE is 2.2641551644246753\n"
     ]
    }
   ],
   "source": [
    "# Performance Metrics\n",
    "\n",
    "from sklearn.metrics import mean_squared_error\n",
    "from sklearn.metrics import mean_absolute_error\n",
    "\n",
    "print(\"MSE is\", mean_squared_error(y_test,reg_pred))\n",
    "print(\"MAE is\",mean_absolute_error(y_test,reg_pred))\n",
    "print(\"RMSE is\",np.sqrt(mean_squared_error(y_test,reg_pred)))"
   ]
  },
  {
   "cell_type": "code",
   "execution_count": 66,
   "id": "6897c02c",
   "metadata": {},
   "outputs": [
    {
     "name": "stdout",
     "output_type": "stream",
     "text": [
      "R Square is 0.5227146123036033\n"
     ]
    }
   ],
   "source": [
    "# Computing R square and Adjusted R square\n",
    "\n",
    "from sklearn.metrics import r2_score\n",
    "\n",
    "score =r2_score(y_test,reg_pred)\n",
    "print(\"R Square is\", score)"
   ]
  },
  {
   "cell_type": "code",
   "execution_count": 67,
   "id": "55f31363",
   "metadata": {},
   "outputs": [
    {
     "name": "stdout",
     "output_type": "stream",
     "text": [
      "Adjusted R Square is 0.4622136476660318\n"
     ]
    }
   ],
   "source": [
    "#Adjusted R Square\n",
    "print(\"Adjusted R Square is\", 1 - (1-score)*(len(y_test)-1)/(len(y_test)-X_test.shape[1]-1))"
   ]
  },
  {
   "cell_type": "markdown",
   "id": "e66ff743",
   "metadata": {},
   "source": [
    "Notes: The accuracy of the model under R2 will increase as and when we increase the number of features(x).\n",
    "But the Adjusted R2 will remain unaffected inspite of No. of features(x) we take , so R2 is less reliable then Adjusted R2"
   ]
  },
  {
   "cell_type": "markdown",
   "id": "4551c1b9",
   "metadata": {},
   "source": [
    "# Model training for Ridge Regression"
   ]
  },
  {
   "cell_type": "markdown",
   "id": "301b14fa",
   "metadata": {},
   "source": [
    "Ridge Regression (also called as L2 Regularization),the main aim of ridge regression is to reduce overfitting"
   ]
  },
  {
   "cell_type": "code",
   "execution_count": 68,
   "id": "d96c1e86",
   "metadata": {},
   "outputs": [],
   "source": [
    "from sklearn.linear_model import Ridge\n",
    "\n",
    "ridge_regression = Ridge()"
   ]
  },
  {
   "cell_type": "code",
   "execution_count": 69,
   "id": "da8a990e",
   "metadata": {},
   "outputs": [
    {
     "data": {
      "text/plain": [
       "Ridge()"
      ]
     },
     "execution_count": 69,
     "metadata": {},
     "output_type": "execute_result"
    }
   ],
   "source": [
    "ridge_regression"
   ]
  },
  {
   "cell_type": "code",
   "execution_count": 70,
   "id": "cdf9d1c6",
   "metadata": {},
   "outputs": [
    {
     "data": {
      "text/plain": [
       "Ridge()"
      ]
     },
     "execution_count": 70,
     "metadata": {},
     "output_type": "execute_result"
    }
   ],
   "source": [
    "ridge_regression.fit(X_train,y_train)"
   ]
  },
  {
   "cell_type": "code",
   "execution_count": 71,
   "id": "7c7aa761",
   "metadata": {},
   "outputs": [
    {
     "name": "stdout",
     "output_type": "stream",
     "text": [
      "Coefficients are [-1.128844   -0.46133629  0.08183743  1.6314207   0.53993679  0.44532083\n",
      "  0.16303925 -0.55090562 -0.11702728]\n",
      "Intercept is 31.98159509202454\n"
     ]
    }
   ],
   "source": [
    "#Printing the Coefficients and Intercept\n",
    "\n",
    "print(\"Coefficients are\", ridge_regression.coef_)\n",
    "print(\"Intercept is\", ridge_regression.intercept_)"
   ]
  },
  {
   "cell_type": "code",
   "execution_count": 72,
   "id": "c69f98e1",
   "metadata": {},
   "outputs": [],
   "source": [
    "# Prediction for the Test Data\n",
    "\n",
    "ridge_regression_pred= ridge_regression.predict(X_test)\n"
   ]
  },
  {
   "cell_type": "code",
   "execution_count": 73,
   "id": "f73b87de",
   "metadata": {},
   "outputs": [
    {
     "data": {
      "text/plain": [
       "array([33.12618992, 34.24674   , 34.06922682, 33.42510732, 36.53814134,\n",
       "       32.42996174, 35.30762891, 27.4057252 , 30.79261446, 29.54793777,\n",
       "       29.25913293, 33.24772941, 33.71838792, 33.21993484, 34.21546555,\n",
       "       32.23843379, 36.80045992, 25.41971491, 32.30821218, 33.6815395 ,\n",
       "       30.62048363, 28.39123683, 35.11991037, 28.71361891, 36.34377989,\n",
       "       26.9248708 , 32.8908782 , 33.38172768, 33.12033053, 34.62363441,\n",
       "       34.62800665, 31.51025782, 32.7258902 , 33.39246733, 32.52281669,\n",
       "       33.20470157, 30.18157071, 34.51169763, 31.65133631, 23.9500916 ,\n",
       "       33.82657625, 33.98804714, 32.34987969, 25.03226483, 36.09250024,\n",
       "       32.50666047, 31.21803583, 30.38934469, 35.45342925, 34.68761049,\n",
       "       36.79108503, 31.12578978, 30.96863631, 34.33251422, 33.84410339,\n",
       "       32.32887485, 36.68517508, 32.20456918, 30.13608325, 36.54981854,\n",
       "       33.17022939, 29.95378642, 33.97467454, 32.15149675, 31.69665969,\n",
       "       24.95146106, 33.24563787, 30.66575481, 36.63611759, 35.05228992,\n",
       "       32.96905953, 31.29991731, 33.31582773, 34.83624989, 36.08518219,\n",
       "       31.4585751 , 33.55076018, 32.29725788, 35.43083938, 32.12534116,\n",
       "       34.12227596])"
      ]
     },
     "execution_count": 73,
     "metadata": {},
     "output_type": "execute_result"
    }
   ],
   "source": [
    "ridge_regression_pred"
   ]
  },
  {
   "cell_type": "code",
   "execution_count": 74,
   "id": "af427140",
   "metadata": {},
   "outputs": [
    {
     "data": {
      "text/plain": [
       "<matplotlib.collections.PathCollection at 0x195c39b18b0>"
      ]
     },
     "execution_count": 74,
     "metadata": {},
     "output_type": "execute_result"
    },
    {
     "data": {
      "image/png": "[encoded data removed]",
      "text/plain": [
       "<Figure size 864x576 with 1 Axes>"
      ]
     },
     "metadata": {},
     "output_type": "display_data"
    }
   ],
   "source": [
    "#Assumption of linear Regression\n",
    "\n",
    "plt.scatter(y_test, ridge_regression_pred)\n"
   ]
  },
  {
   "cell_type": "code",
   "execution_count": 75,
   "id": "dfeb4287",
   "metadata": {},
   "outputs": [],
   "source": [
    "#Residual\n",
    "\n",
    "residual= y_test-ridge_regression_pred"
   ]
  },
  {
   "cell_type": "code",
   "execution_count": 76,
   "id": "b7b923a4",
   "metadata": {},
   "outputs": [
    {
     "data": {
      "text/plain": [
       "24    -2.126190\n",
       "6     -1.246740\n",
       "156   -1.069227\n",
       "214    1.574893\n",
       "201    3.461859\n",
       "         ...   \n",
       "183    0.449240\n",
       "5     -1.297258\n",
       "56     0.569161\n",
       "128   -2.125341\n",
       "151    1.877724\n",
       "Name: Temperature, Length: 81, dtype: float64"
      ]
     },
     "execution_count": 76,
     "metadata": {},
     "output_type": "execute_result"
    }
   ],
   "source": [
    "residual"
   ]
  },
  {
   "cell_type": "code",
   "execution_count": 77,
   "id": "5901692f",
   "metadata": {},
   "outputs": [
    {
     "data": {
      "text/plain": [
       "<seaborn.axisgrid.FacetGrid at 0x195c2fba640>"
      ]
     },
     "execution_count": 77,
     "metadata": {},
     "output_type": "execute_result"
    },
    {
     "data": {
      "image/png": "[encoded data removed]",
      "text/plain": [
       "<Figure size 360x360 with 1 Axes>"
      ]
     },
     "metadata": {},
     "output_type": "display_data"
    }
   ],
   "source": [
    "sns.displot(residual, kind=\"kde\")"
   ]
  },
  {
   "cell_type": "code",
   "execution_count": 78,
   "id": "e479528c",
   "metadata": {},
   "outputs": [
    {
     "data": {
      "text/plain": [
       "<matplotlib.collections.PathCollection at 0x195c3d98130>"
      ]
     },
     "execution_count": 78,
     "metadata": {},
     "output_type": "execute_result"
    },
    {
     "data": {
      "image/png": "[encoded data removed]",
      "text/plain": [
       "<Figure size 864x576 with 1 Axes>"
      ]
     },
     "metadata": {},
     "output_type": "display_data"
    }
   ],
   "source": [
    "# Scatter plot for residual and predicted\n",
    "\n",
    "plt.scatter(residual, ridge_regression_pred)"
   ]
  },
  {
   "cell_type": "code",
   "execution_count": 80,
   "id": "2635af7c",
   "metadata": {},
   "outputs": [
    {
     "name": "stdout",
     "output_type": "stream",
     "text": [
      "MSE is: 5.088713450266237\n",
      "MAE is: 1.8084384577412904\n",
      "RMSE is: 2.2558176899444327\n"
     ]
    }
   ],
   "source": [
    "#Performance Metrics\n",
    "\n",
    "from sklearn.metrics import mean_squared_error\n",
    "from sklearn.metrics import mean_absolute_error\n",
    "\n",
    "print(\"MSE is:\",mean_squared_error(y_test,ridge_regression_pred))\n",
    "print(\"MAE is:\",mean_absolute_error(y_test,ridge_regression_pred))\n",
    "print(\"RMSE is:\",np.sqrt(mean_squared_error(y_test,ridge_regression_pred)))"
   ]
  },
  {
   "cell_type": "code",
   "execution_count": 81,
   "id": "cbb8c23c",
   "metadata": {},
   "outputs": [
    {
     "name": "stdout",
     "output_type": "stream",
     "text": [
      "R Square is:  0.5262232304924539\n"
     ]
    }
   ],
   "source": [
    "# R Square and Adjusted R square\n",
    "\n",
    "from sklearn.metrics import r2_score\n",
    "\n",
    "score= r2_score(y_test,ridge_regression_pred)\n",
    "print(\"R Square is: \",score)"
   ]
  },
  {
   "cell_type": "code",
   "execution_count": 82,
   "id": "8c7f9621",
   "metadata": {},
   "outputs": [
    {
     "name": "stdout",
     "output_type": "stream",
     "text": [
      "Adjusted R Square is:  0.46616702027318746\n"
     ]
    }
   ],
   "source": [
    "#Adjusted R Square\n",
    "print(\"Adjusted R Square is: \",1 - (1-score)*(len(y_test)-1)/(len(y_test)-X_test.shape[1]-1))"
   ]
  },
  {
   "cell_type": "markdown",
   "id": "ad100492",
   "metadata": {},
   "source": [
    "# Model training for Lasso Regression"
   ]
  },
  {
   "cell_type": "markdown",
   "id": "b8e066b0",
   "metadata": {},
   "source": [
    "Notes: LASSO Regression(also called as L1 Norm/L1 Regularization),the main aim of LASSO regressio is to reduce the features which are least correlated with dependent variables .\n",
    "\n",
    "If our datasets has outliers we should use LASSO ."
   ]
  },
  {
   "cell_type": "code",
   "execution_count": 83,
   "id": "33b74750",
   "metadata": {},
   "outputs": [],
   "source": [
    "from sklearn.linear_model import Lasso\n",
    "\n",
    "lasso= Lasso()"
   ]
  },
  {
   "cell_type": "code",
   "execution_count": 84,
   "id": "b9f9e365",
   "metadata": {},
   "outputs": [
    {
     "data": {
      "text/plain": [
       "Lasso()"
      ]
     },
     "execution_count": 84,
     "metadata": {},
     "output_type": "execute_result"
    }
   ],
   "source": [
    "lasso"
   ]
  },
  {
   "cell_type": "code",
   "execution_count": 85,
   "id": "50d263b2",
   "metadata": {},
   "outputs": [
    {
     "data": {
      "text/plain": [
       "Lasso()"
      ]
     },
     "execution_count": 85,
     "metadata": {},
     "output_type": "execute_result"
    }
   ],
   "source": [
    "lasso.fit(X_train,y_train)"
   ]
  },
  {
   "cell_type": "code",
   "execution_count": 86,
   "id": "cb49e246",
   "metadata": {},
   "outputs": [
    {
     "name": "stdout",
     "output_type": "stream",
     "text": [
      "Coefficients are [-0.62324302 -0.         -0.          1.25581509  0.          0.\n",
      "  0.          0.          0.        ]\n",
      "Intercept is 31.98159509202454\n"
     ]
    }
   ],
   "source": [
    "#Printing the Coefficients and Intercept\n",
    "\n",
    "print(\"Coefficients are\", lasso.coef_)\n",
    "print(\"Intercept is\", lasso.intercept_)"
   ]
  },
  {
   "cell_type": "code",
   "execution_count": 87,
   "id": "18ae11ff",
   "metadata": {},
   "outputs": [],
   "source": [
    "# Prediction for the Test Data\n",
    "\n",
    "lasso_pred= lasso.predict(X_test)"
   ]
  },
  {
   "cell_type": "code",
   "execution_count": 89,
   "id": "64f44641",
   "metadata": {},
   "outputs": [
    {
     "data": {
      "text/plain": [
       "array([32.78381104, 33.3358205 , 33.53835729, 32.69192045, 34.21212444,\n",
       "       31.67725854, 34.06518855, 28.84685412, 30.99078013, 30.10392027,\n",
       "       31.06631475, 32.42020469, 32.80398907, 32.31726957, 33.37068778,\n",
       "       32.46976122, 34.57875298, 27.38502889, 32.29240264, 33.12192792,\n",
       "       31.62499111, 29.79900395, 33.65042591, 30.31559056, 34.62053146,\n",
       "       28.73534108, 32.5527626 , 32.85187888, 32.99739235, 33.91411932,\n",
       "       33.25917474, 31.27076256, 32.79238897, 32.82670067, 32.58151856,\n",
       "       32.71432078, 31.4254765 , 33.30564213, 31.04995877, 28.31033379,\n",
       "       32.79596672, 32.94981382, 32.61305239, 27.48796401, 34.24588058,\n",
       "       32.5549849 , 31.88399562, 30.89031162, 34.19107957, 33.50571231,\n",
       "       34.39861652, 31.81203876, 31.79074958, 32.97252542, 33.46393383,\n",
       "       32.11393291, 34.88311373, 32.60669677, 31.06489233, 34.43070593,\n",
       "       33.14932842, 31.16313854, 33.31119788, 32.23069043, 32.12966634,\n",
       "       27.92377153, 33.05552681, 31.68837004, 34.34770454, 34.11554496,\n",
       "       32.95092497, 31.93212973, 33.10008317, 33.54804636, 34.5256187 ,\n",
       "       31.88399562, 33.11557229, 32.30511389, 33.7699613 , 32.15762242,\n",
       "       33.37068778])"
      ]
     },
     "execution_count": 89,
     "metadata": {},
     "output_type": "execute_result"
    }
   ],
   "source": [
    "lasso_pred"
   ]
  },
  {
   "cell_type": "code",
   "execution_count": 90,
   "id": "0823f5ce",
   "metadata": {},
   "outputs": [
    {
     "data": {
      "text/plain": [
       "<matplotlib.collections.PathCollection at 0x195c07611c0>"
      ]
     },
     "execution_count": 90,
     "metadata": {},
     "output_type": "execute_result"
    },
    {
     "data": {
      "image/png": "[encoded data removed]",
      "text/plain": [
       "<Figure size 864x576 with 1 Axes>"
      ]
     },
     "metadata": {},
     "output_type": "display_data"
    }
   ],
   "source": [
    "plt.scatter(y_test, lasso_pred)"
   ]
  },
  {
   "cell_type": "code",
   "execution_count": 91,
   "id": "66ba3955",
   "metadata": {},
   "outputs": [],
   "source": [
    "#Residual\n",
    "\n",
    "residual= y_test-lasso_pred"
   ]
  },
  {
   "cell_type": "code",
   "execution_count": 92,
   "id": "32d71764",
   "metadata": {},
   "outputs": [
    {
     "data": {
      "text/plain": [
       "24    -1.783811\n",
       "6     -0.335821\n",
       "156   -0.538357\n",
       "214    2.308080\n",
       "201    5.787876\n",
       "         ...   \n",
       "183    0.884428\n",
       "5     -1.305114\n",
       "56     2.230039\n",
       "128   -2.157622\n",
       "151    2.629312\n",
       "Name: Temperature, Length: 81, dtype: float64"
      ]
     },
     "execution_count": 92,
     "metadata": {},
     "output_type": "execute_result"
    }
   ],
   "source": [
    "residual"
   ]
  },
  {
   "cell_type": "code",
   "execution_count": 93,
   "id": "c8b94349",
   "metadata": {},
   "outputs": [
    {
     "data": {
      "text/plain": [
       "<seaborn.axisgrid.FacetGrid at 0x195c5213f70>"
      ]
     },
     "execution_count": 93,
     "metadata": {},
     "output_type": "execute_result"
    },
    {
     "data": {
      "image/png": "[encoded data removed]",
      "text/plain": [
       "<Figure size 360x360 with 1 Axes>"
      ]
     },
     "metadata": {},
     "output_type": "display_data"
    }
   ],
   "source": [
    "sns.displot(residual, kind= \"kde\")"
   ]
  },
  {
   "cell_type": "code",
   "execution_count": 94,
   "id": "10878acd",
   "metadata": {},
   "outputs": [
    {
     "data": {
      "text/plain": [
       "<matplotlib.collections.PathCollection at 0x195c5a8c730>"
      ]
     },
     "execution_count": 94,
     "metadata": {},
     "output_type": "execute_result"
    },
    {
     "data": {
      "image/png": "[encoded data removed]",
      "text/plain": [
       "<Figure size 864x576 with 1 Axes>"
      ]
     },
     "metadata": {},
     "output_type": "display_data"
    }
   ],
   "source": [
    "# Scatter Plot with prediction and residual\n",
    "\n",
    "plt.scatter(lasso_pred,residual)"
   ]
  },
  {
   "cell_type": "code",
   "execution_count": 95,
   "id": "04aa0c07",
   "metadata": {},
   "outputs": [
    {
     "name": "stdout",
     "output_type": "stream",
     "text": [
      "MSE is: 6.085458745527471\n",
      "MAE is: 1.9978776414662665\n",
      "RMSE is: 2.4668722596696147\n"
     ]
    }
   ],
   "source": [
    "#Performance Metrics\n",
    "\n",
    "from sklearn.metrics import mean_squared_error\n",
    "from sklearn.metrics import mean_absolute_error\n",
    "\n",
    "print(\"MSE is:\",mean_squared_error(y_test,lasso_pred))\n",
    "print(\"MAE is:\",mean_absolute_error(y_test,lasso_pred))\n",
    "print(\"RMSE is:\", np.sqrt(mean_squared_error(y_test,lasso_pred)))"
   ]
  },
  {
   "cell_type": "code",
   "execution_count": 97,
   "id": "bd59bebe",
   "metadata": {},
   "outputs": [
    {
     "name": "stdout",
     "output_type": "stream",
     "text": [
      "R Square is:  0.4334228064508907\n"
     ]
    }
   ],
   "source": [
    "# R Square and Adjusted R square\n",
    "\n",
    "from sklearn.metrics import r2_score\n",
    "\n",
    "score= r2_score(y_test,lasso_pred)\n",
    "print(\"R Square is: \",score)"
   ]
  },
  {
   "cell_type": "code",
   "execution_count": 98,
   "id": "2ecd0025",
   "metadata": {},
   "outputs": [
    {
     "name": "stdout",
     "output_type": "stream",
     "text": [
      "Adjusted R square is:  0.36160316219818667\n"
     ]
    }
   ],
   "source": [
    "#Adjusted R Square\n",
    "print(\"Adjusted R square is: \",1 - (1-score)*(len(y_test)-1)/(len(y_test)-X_test.shape[1]-1))"
   ]
  }
 ],
 "metadata": {
  "kernelspec": {
   "display_name": "Python 3 (ipykernel)",
   "language": "python",
   "name": "python3"
  },
  "language_info": {
   "codemirror_mode": {
    "name": "ipython",
    "version": 3
   },
   "file_extension": ".py",
   "mimetype": "text/x-python",
   "name": "python",
   "nbconvert_exporter": "python",
   "pygments_lexer": "ipython3",
   "version": "3.9.12"
  }
 },
 "nbformat": 4,
 "nbformat_minor": 5
}
